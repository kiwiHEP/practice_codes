{
 "cells": [
  {
   "cell_type": "code",
   "execution_count": 1,
   "id": "1a0833b9",
   "metadata": {},
   "outputs": [
    {
     "name": "stdout",
     "output_type": "stream",
     "text": [
      "Collecting uproot3\n",
      "  Downloading uproot3-3.14.4-py3-none-any.whl (117 kB)\n",
      "\u001b[K     |████████████████████████████████| 117 kB 3.2 MB/s eta 0:00:01\n",
      "\u001b[?25hCollecting uproot3-methods\n",
      "  Downloading uproot3_methods-0.10.1-py3-none-any.whl (32 kB)\n",
      "Requirement already satisfied: numpy>=1.13.1 in /home/ruchi/anaconda3/lib/python3.9/site-packages (from uproot3) (1.20.3)\n",
      "Collecting awkward0\n",
      "  Downloading awkward0-0.15.5-py3-none-any.whl (87 kB)\n",
      "\u001b[K     |████████████████████████████████| 87 kB 1.3 MB/s eta 0:00:011\n",
      "\u001b[?25hCollecting cachetools\n",
      "  Downloading cachetools-5.0.0-py3-none-any.whl (9.1 kB)\n",
      "Installing collected packages: awkward0, uproot3-methods, cachetools, uproot3\n",
      "Successfully installed awkward0-0.15.5 cachetools-5.0.0 uproot3-3.14.4 uproot3-methods-0.10.1\n",
      "Note: you may need to restart the kernel to use updated packages.\n"
     ]
    }
   ],
   "source": [
    "pip install uproot3"
   ]
  },
  {
   "cell_type": "code",
   "execution_count": 2,
   "id": "2cd2cf6a",
   "metadata": {},
   "outputs": [],
   "source": [
    "import uproot3"
   ]
  },
  {
   "cell_type": "code",
   "execution_count": 3,
   "id": "c03db648",
   "metadata": {},
   "outputs": [],
   "source": [
    "events = uproot3.open(\"mvaTrees_flatPi0.root\")[\"mergedPi0_SCTree\"]"
   ]
  },
  {
   "cell_type": "code",
   "execution_count": 4,
   "id": "90a70d59",
   "metadata": {},
   "outputs": [],
   "source": [
    "et = events.array(\"phoEt\")"
   ]
  },
  {
   "cell_type": "code",
   "execution_count": 5,
   "id": "16d8df6c",
   "metadata": {},
   "outputs": [
    {
     "data": {
      "text/plain": [
       "array([ 7.48355675,  4.79911661,  3.01674986, ..., 11.3301115 ,\n",
       "        8.57450008,  9.55344963])"
      ]
     },
     "execution_count": 5,
     "metadata": {},
     "output_type": "execute_result"
    }
   ],
   "source": [
    "et"
   ]
  },
  {
   "cell_type": "code",
   "execution_count": 6,
   "id": "8636fee9",
   "metadata": {},
   "outputs": [
    {
     "data": {
      "text/plain": [
       "asdtype('>f8')"
      ]
     },
     "execution_count": 6,
     "metadata": {},
     "output_type": "execute_result"
    }
   ],
   "source": [
    "events[\"phoEt\"].interpretation"
   ]
  },
  {
   "cell_type": "code",
   "execution_count": 8,
   "id": "a7614943",
   "metadata": {},
   "outputs": [],
   "source": [
    "import numpy as np"
   ]
  },
  {
   "cell_type": "code",
   "execution_count": 9,
   "id": "4ed6704b",
   "metadata": {},
   "outputs": [
    {
     "data": {
      "text/plain": [
       "array([2.01270818, 1.56843186, 1.10418005, ..., 2.42746392, 2.14879269,\n",
       "       2.25690231])"
      ]
     },
     "execution_count": 9,
     "metadata": {},
     "output_type": "execute_result"
    }
   ],
   "source": [
    "np.log(et)"
   ]
  },
  {
   "cell_type": "code",
   "execution_count": 10,
   "id": "f07ab001",
   "metadata": {},
   "outputs": [
    {
     "data": {
      "text/plain": [
       "{b'phoEt': array([ 7.48355675,  4.79911661,  3.01674986, ..., 11.3301115 ,\n",
       "         8.57450008,  9.55344963]),\n",
       " b'phoEta': array([-0.26601061,  0.34773847, -0.86148304, ..., -0.89623421,\n",
       "         0.94084996, -0.9019317 ]),\n",
       " b'phoPhi': array([-2.6475966 ,  0.4893274 ,  1.99606049, ..., -0.97244513,\n",
       "         2.77736545, -0.36283758])}"
      ]
     },
     "execution_count": 10,
     "metadata": {},
     "output_type": "execute_result"
    }
   ],
   "source": [
    "events.arrays([\"phoEt\", \"phoEta\", \"phoPhi\"])"
   ]
  },
  {
   "cell_type": "markdown",
   "id": "058a0b50",
   "metadata": {},
   "source": [
    "## Caching data"
   ]
  },
  {
   "cell_type": "markdown",
   "id": "f37a5258",
   "metadata": {},
   "source": [
    "Every time you ask for arrays, Uproot goes to the file and re-reads them. For especially large arrays, this can take a long time.\n",
    "\n",
    "For quicker access, Uproot’s array-reading functions have a cache parameter, which is an entry point for you to manage your own cache. The cache only needs to behave like a dict (many third-party Python caches do)."
   ]
  },
  {
   "cell_type": "code",
   "execution_count": 14,
   "id": "9bac491b",
   "metadata": {},
   "outputs": [
    {
     "data": {
      "text/plain": [
       "{b'phoE': array([ 7.74989605,  5.09221172,  4.20716381, ..., 16.19334602,\n",
       "        12.65790939, 13.7098875 ]),\n",
       " b'phoEta': array([-0.26601061,  0.34773847, -0.86148304, ..., -0.89623421,\n",
       "         0.94084996, -0.9019317 ]),\n",
       " b'phoEt': array([ 7.48355675,  4.79911661,  3.01674986, ..., 11.3301115 ,\n",
       "         8.57450008,  9.55344963])}"
      ]
     },
     "execution_count": 14,
     "metadata": {},
     "output_type": "execute_result"
    }
   ],
   "source": [
    "mycache = {}\n",
    "\n",
    "# first time: reads from file\n",
    "events.arrays([\"phoE\",\"phoEta\", \"phoEt\"], cache=mycache)\n",
    "\n",
    "# any other time: reads from cache\n",
    "events.arrays([\"phoE\",\"phoEta\", \"phoEt\"], cache=mycache)"
   ]
  },
  {
   "cell_type": "code",
   "execution_count": 15,
   "id": "f6ee9ac4",
   "metadata": {},
   "outputs": [
    {
     "data": {
      "text/plain": [
       "{'AAHF+DquuyIR7KqoeKC4vL7v;mergedPi0_SCTree;phoE;asdtype(Bf8(),Lf8());0-6714': array([ 7.74989605,  5.09221172,  4.20716381, ..., 16.19334602,\n",
       "        12.65790939, 13.7098875 ]),\n",
       " 'AAHF+DquuyIR7KqoeKC4vL7v;mergedPi0_SCTree;phoEta;asdtype(Bf8(),Lf8());0-6714': array([-0.26601061,  0.34773847, -0.86148304, ..., -0.89623421,\n",
       "         0.94084996, -0.9019317 ]),\n",
       " 'AAHF+DquuyIR7KqoeKC4vL7v;mergedPi0_SCTree;phoEt;asdtype(Bf8(),Lf8());0-6714': array([ 7.48355675,  4.79911661,  3.01674986, ..., 11.3301115 ,\n",
       "         8.57450008,  9.55344963])}"
      ]
     },
     "execution_count": 15,
     "metadata": {},
     "output_type": "execute_result"
    }
   ],
   "source": [
    "mycache"
   ]
  },
  {
   "cell_type": "markdown",
   "id": "7f078725",
   "metadata": {},
   "source": [
    "If you’re running out of memory, you could manually clear your cache by simply clearing the dict."
   ]
  },
  {
   "cell_type": "code",
   "execution_count": 16,
   "id": "206c9262",
   "metadata": {},
   "outputs": [
    {
     "data": {
      "text/plain": [
       "{}"
      ]
     },
     "execution_count": 16,
     "metadata": {},
     "output_type": "execute_result"
    }
   ],
   "source": [
    "mycache.clear()\n",
    "mycache"
   ]
  },
  {
   "cell_type": "code",
   "execution_count": 19,
   "id": "8d9cb309",
   "metadata": {},
   "outputs": [],
   "source": [
    "import pandas as pd"
   ]
  },
  {
   "cell_type": "code",
   "execution_count": 21,
   "id": "427974b2",
   "metadata": {},
   "outputs": [
    {
     "data": {
      "text/html": [
       "<div>\n",
       "<style scoped>\n",
       "    .dataframe tbody tr th:only-of-type {\n",
       "        vertical-align: middle;\n",
       "    }\n",
       "\n",
       "    .dataframe tbody tr th {\n",
       "        vertical-align: top;\n",
       "    }\n",
       "\n",
       "    .dataframe thead th {\n",
       "        text-align: right;\n",
       "    }\n",
       "</style>\n",
       "<table border=\"1\" class=\"dataframe\">\n",
       "  <thead>\n",
       "    <tr style=\"text-align: right;\">\n",
       "      <th></th>\n",
       "      <th>phoEt</th>\n",
       "      <th>phoEta</th>\n",
       "      <th>phoPhi</th>\n",
       "    </tr>\n",
       "    <tr>\n",
       "      <th>entry</th>\n",
       "      <th></th>\n",
       "      <th></th>\n",
       "      <th></th>\n",
       "    </tr>\n",
       "  </thead>\n",
       "  <tbody>\n",
       "    <tr>\n",
       "      <th>0</th>\n",
       "      <td>7.483557</td>\n",
       "      <td>-0.266011</td>\n",
       "      <td>-2.647597</td>\n",
       "    </tr>\n",
       "    <tr>\n",
       "      <th>1</th>\n",
       "      <td>4.799117</td>\n",
       "      <td>0.347738</td>\n",
       "      <td>0.489327</td>\n",
       "    </tr>\n",
       "    <tr>\n",
       "      <th>2</th>\n",
       "      <td>3.016750</td>\n",
       "      <td>-0.861483</td>\n",
       "      <td>1.996060</td>\n",
       "    </tr>\n",
       "    <tr>\n",
       "      <th>3</th>\n",
       "      <td>4.576744</td>\n",
       "      <td>-2.297349</td>\n",
       "      <td>-2.529293</td>\n",
       "    </tr>\n",
       "    <tr>\n",
       "      <th>4</th>\n",
       "      <td>3.767993</td>\n",
       "      <td>0.890022</td>\n",
       "      <td>-2.956455</td>\n",
       "    </tr>\n",
       "    <tr>\n",
       "      <th>...</th>\n",
       "      <td>...</td>\n",
       "      <td>...</td>\n",
       "      <td>...</td>\n",
       "    </tr>\n",
       "    <tr>\n",
       "      <th>6709</th>\n",
       "      <td>17.151024</td>\n",
       "      <td>1.074627</td>\n",
       "      <td>1.943353</td>\n",
       "    </tr>\n",
       "    <tr>\n",
       "      <th>6710</th>\n",
       "      <td>11.385660</td>\n",
       "      <td>0.785061</td>\n",
       "      <td>2.174724</td>\n",
       "    </tr>\n",
       "    <tr>\n",
       "      <th>6711</th>\n",
       "      <td>11.330112</td>\n",
       "      <td>-0.896234</td>\n",
       "      <td>-0.972445</td>\n",
       "    </tr>\n",
       "    <tr>\n",
       "      <th>6712</th>\n",
       "      <td>8.574500</td>\n",
       "      <td>0.940850</td>\n",
       "      <td>2.777365</td>\n",
       "    </tr>\n",
       "    <tr>\n",
       "      <th>6713</th>\n",
       "      <td>9.553450</td>\n",
       "      <td>-0.901932</td>\n",
       "      <td>-0.362838</td>\n",
       "    </tr>\n",
       "  </tbody>\n",
       "</table>\n",
       "<p>6714 rows × 3 columns</p>\n",
       "</div>"
      ],
      "text/plain": [
       "           phoEt    phoEta    phoPhi\n",
       "entry                               \n",
       "0       7.483557 -0.266011 -2.647597\n",
       "1       4.799117  0.347738  0.489327\n",
       "2       3.016750 -0.861483  1.996060\n",
       "3       4.576744 -2.297349 -2.529293\n",
       "4       3.767993  0.890022 -2.956455\n",
       "...          ...       ...       ...\n",
       "6709   17.151024  1.074627  1.943353\n",
       "6710   11.385660  0.785061  2.174724\n",
       "6711   11.330112 -0.896234 -0.972445\n",
       "6712    8.574500  0.940850  2.777365\n",
       "6713    9.553450 -0.901932 -0.362838\n",
       "\n",
       "[6714 rows x 3 columns]"
      ]
     },
     "execution_count": 21,
     "metadata": {},
     "output_type": "execute_result"
    }
   ],
   "source": [
    "events.pandas.df([\"phoEt\",\"phoEta\",\"phoPhi\"])"
   ]
  },
  {
   "cell_type": "code",
   "execution_count": 22,
   "id": "ad74fc18",
   "metadata": {},
   "outputs": [],
   "source": [
    "pd_dataframe = events.pandas.df([\"phoEt\",\"phoEta\",\"phoPhi\"])"
   ]
  },
  {
   "cell_type": "code",
   "execution_count": 23,
   "id": "32c843cf",
   "metadata": {},
   "outputs": [
    {
     "data": {
      "text/html": [
       "<div>\n",
       "<style scoped>\n",
       "    .dataframe tbody tr th:only-of-type {\n",
       "        vertical-align: middle;\n",
       "    }\n",
       "\n",
       "    .dataframe tbody tr th {\n",
       "        vertical-align: top;\n",
       "    }\n",
       "\n",
       "    .dataframe thead th {\n",
       "        text-align: right;\n",
       "    }\n",
       "</style>\n",
       "<table border=\"1\" class=\"dataframe\">\n",
       "  <thead>\n",
       "    <tr style=\"text-align: right;\">\n",
       "      <th></th>\n",
       "      <th>phoEt</th>\n",
       "      <th>phoEta</th>\n",
       "      <th>phoPhi</th>\n",
       "    </tr>\n",
       "    <tr>\n",
       "      <th>entry</th>\n",
       "      <th></th>\n",
       "      <th></th>\n",
       "      <th></th>\n",
       "    </tr>\n",
       "  </thead>\n",
       "  <tbody>\n",
       "    <tr>\n",
       "      <th>0</th>\n",
       "      <td>7.483557</td>\n",
       "      <td>-0.266011</td>\n",
       "      <td>-2.647597</td>\n",
       "    </tr>\n",
       "    <tr>\n",
       "      <th>1</th>\n",
       "      <td>4.799117</td>\n",
       "      <td>0.347738</td>\n",
       "      <td>0.489327</td>\n",
       "    </tr>\n",
       "    <tr>\n",
       "      <th>2</th>\n",
       "      <td>3.016750</td>\n",
       "      <td>-0.861483</td>\n",
       "      <td>1.996060</td>\n",
       "    </tr>\n",
       "    <tr>\n",
       "      <th>3</th>\n",
       "      <td>4.576744</td>\n",
       "      <td>-2.297349</td>\n",
       "      <td>-2.529293</td>\n",
       "    </tr>\n",
       "    <tr>\n",
       "      <th>4</th>\n",
       "      <td>3.767993</td>\n",
       "      <td>0.890022</td>\n",
       "      <td>-2.956455</td>\n",
       "    </tr>\n",
       "    <tr>\n",
       "      <th>...</th>\n",
       "      <td>...</td>\n",
       "      <td>...</td>\n",
       "      <td>...</td>\n",
       "    </tr>\n",
       "    <tr>\n",
       "      <th>6709</th>\n",
       "      <td>17.151024</td>\n",
       "      <td>1.074627</td>\n",
       "      <td>1.943353</td>\n",
       "    </tr>\n",
       "    <tr>\n",
       "      <th>6710</th>\n",
       "      <td>11.385660</td>\n",
       "      <td>0.785061</td>\n",
       "      <td>2.174724</td>\n",
       "    </tr>\n",
       "    <tr>\n",
       "      <th>6711</th>\n",
       "      <td>11.330112</td>\n",
       "      <td>-0.896234</td>\n",
       "      <td>-0.972445</td>\n",
       "    </tr>\n",
       "    <tr>\n",
       "      <th>6712</th>\n",
       "      <td>8.574500</td>\n",
       "      <td>0.940850</td>\n",
       "      <td>2.777365</td>\n",
       "    </tr>\n",
       "    <tr>\n",
       "      <th>6713</th>\n",
       "      <td>9.553450</td>\n",
       "      <td>-0.901932</td>\n",
       "      <td>-0.362838</td>\n",
       "    </tr>\n",
       "  </tbody>\n",
       "</table>\n",
       "<p>6714 rows × 3 columns</p>\n",
       "</div>"
      ],
      "text/plain": [
       "           phoEt    phoEta    phoPhi\n",
       "entry                               \n",
       "0       7.483557 -0.266011 -2.647597\n",
       "1       4.799117  0.347738  0.489327\n",
       "2       3.016750 -0.861483  1.996060\n",
       "3       4.576744 -2.297349 -2.529293\n",
       "4       3.767993  0.890022 -2.956455\n",
       "...          ...       ...       ...\n",
       "6709   17.151024  1.074627  1.943353\n",
       "6710   11.385660  0.785061  2.174724\n",
       "6711   11.330112 -0.896234 -0.972445\n",
       "6712    8.574500  0.940850  2.777365\n",
       "6713    9.553450 -0.901932 -0.362838\n",
       "\n",
       "[6714 rows x 3 columns]"
      ]
     },
     "execution_count": 23,
     "metadata": {},
     "output_type": "execute_result"
    }
   ],
   "source": [
    "pd_dataframe"
   ]
  },
  {
   "cell_type": "code",
   "execution_count": 24,
   "id": "abe61cbf",
   "metadata": {},
   "outputs": [
    {
     "data": {
      "text/plain": [
       "pandas.core.frame.DataFrame"
      ]
     },
     "execution_count": 24,
     "metadata": {},
     "output_type": "execute_result"
    }
   ],
   "source": [
    "type(pd_dataframe)"
   ]
  },
  {
   "cell_type": "code",
   "execution_count": null,
   "id": "554562ad",
   "metadata": {},
   "outputs": [],
   "source": []
  }
 ],
 "metadata": {
  "kernelspec": {
   "display_name": "Python 3 (ipykernel)",
   "language": "python",
   "name": "python3"
  },
  "language_info": {
   "codemirror_mode": {
    "name": "ipython",
    "version": 3
   },
   "file_extension": ".py",
   "mimetype": "text/x-python",
   "name": "python",
   "nbconvert_exporter": "python",
   "pygments_lexer": "ipython3",
   "version": "3.9.7"
  }
 },
 "nbformat": 4,
 "nbformat_minor": 5
}
