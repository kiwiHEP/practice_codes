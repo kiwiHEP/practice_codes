{
 "cells": [
  {
   "cell_type": "code",
   "execution_count": 1,
   "id": "e50c2c75-d109-44fb-9c50-5d08f0dae0db",
   "metadata": {},
   "outputs": [],
   "source": [
    "import uproot3\n",
    "import dask.dataframe as dd"
   ]
  },
  {
   "cell_type": "code",
   "execution_count": 2,
   "id": "fb3b7a00",
   "metadata": {},
   "outputs": [],
   "source": [
    "events = uproot3.open(\"mvaTrees_flatPi0.root\")[\"mergedPi0_SCTree\"]"
   ]
  },
  {
   "cell_type": "code",
   "execution_count": 3,
   "id": "ea435c83",
   "metadata": {},
   "outputs": [],
   "source": [
    "branches = [\"phoEt\",\"phoEta\",\"phoPhi\"]"
   ]
  },
  {
   "cell_type": "code",
   "execution_count": 4,
   "id": "c7c25882",
   "metadata": {},
   "outputs": [],
   "source": [
    "pd_dataframe = events.pandas.df(branches)"
   ]
  },
  {
   "cell_type": "code",
   "execution_count": 5,
   "id": "5244f3a8",
   "metadata": {},
   "outputs": [],
   "source": [
    "photon_daskFrame = dd.from_pandas(pd_dataframe, npartitions=10)"
   ]
  },
  {
   "cell_type": "code",
   "execution_count": 6,
   "id": "f43df1fb",
   "metadata": {},
   "outputs": [
    {
     "data": {
      "text/html": [
       "<div><strong>Dask DataFrame Structure:</strong></div>\n",
       "<div>\n",
       "<style scoped>\n",
       "    .dataframe tbody tr th:only-of-type {\n",
       "        vertical-align: middle;\n",
       "    }\n",
       "\n",
       "    .dataframe tbody tr th {\n",
       "        vertical-align: top;\n",
       "    }\n",
       "\n",
       "    .dataframe thead th {\n",
       "        text-align: right;\n",
       "    }\n",
       "</style>\n",
       "<table border=\"1\" class=\"dataframe\">\n",
       "  <thead>\n",
       "    <tr style=\"text-align: right;\">\n",
       "      <th></th>\n",
       "      <th>phoEt</th>\n",
       "      <th>phoEta</th>\n",
       "      <th>phoPhi</th>\n",
       "    </tr>\n",
       "    <tr>\n",
       "      <th>npartitions=10</th>\n",
       "      <th></th>\n",
       "      <th></th>\n",
       "      <th></th>\n",
       "    </tr>\n",
       "  </thead>\n",
       "  <tbody>\n",
       "    <tr>\n",
       "      <th>0</th>\n",
       "      <td>float64</td>\n",
       "      <td>float64</td>\n",
       "      <td>float64</td>\n",
       "    </tr>\n",
       "    <tr>\n",
       "      <th>672</th>\n",
       "      <td>...</td>\n",
       "      <td>...</td>\n",
       "      <td>...</td>\n",
       "    </tr>\n",
       "    <tr>\n",
       "      <th>...</th>\n",
       "      <td>...</td>\n",
       "      <td>...</td>\n",
       "      <td>...</td>\n",
       "    </tr>\n",
       "    <tr>\n",
       "      <th>6048</th>\n",
       "      <td>...</td>\n",
       "      <td>...</td>\n",
       "      <td>...</td>\n",
       "    </tr>\n",
       "    <tr>\n",
       "      <th>6713</th>\n",
       "      <td>...</td>\n",
       "      <td>...</td>\n",
       "      <td>...</td>\n",
       "    </tr>\n",
       "  </tbody>\n",
       "</table>\n",
       "</div>\n",
       "<div>Dask Name: from_pandas, 10 tasks</div>"
      ],
      "text/plain": [
       "Dask DataFrame Structure:\n",
       "                  phoEt   phoEta   phoPhi\n",
       "npartitions=10                           \n",
       "0               float64  float64  float64\n",
       "672                 ...      ...      ...\n",
       "...                 ...      ...      ...\n",
       "6048                ...      ...      ...\n",
       "6713                ...      ...      ...\n",
       "Dask Name: from_pandas, 10 tasks"
      ]
     },
     "execution_count": 6,
     "metadata": {},
     "output_type": "execute_result"
    }
   ],
   "source": [
    "photon_daskFrame"
   ]
  },
  {
   "cell_type": "code",
   "execution_count": 7,
   "id": "5a723029",
   "metadata": {},
   "outputs": [],
   "source": [
    "dfs=[]"
   ]
  },
  {
   "cell_type": "code",
   "execution_count": 8,
   "id": "078e580a",
   "metadata": {},
   "outputs": [],
   "source": [
    "from dask import delayed"
   ]
  },
  {
   "cell_type": "code",
   "execution_count": 9,
   "id": "ae7f20a5",
   "metadata": {},
   "outputs": [],
   "source": [
    "dfs.append(delayed(pd_dataframe))"
   ]
  },
  {
   "cell_type": "code",
   "execution_count": 10,
   "id": "6fe4e5db",
   "metadata": {},
   "outputs": [
    {
     "data": {
      "text/plain": [
       "[Delayed('DataFrame-1f8c8f16-1a59-405d-ba8d-4ede071e8324')]"
      ]
     },
     "execution_count": 10,
     "metadata": {},
     "output_type": "execute_result"
    }
   ],
   "source": [
    "dfs"
   ]
  },
  {
   "cell_type": "code",
   "execution_count": 11,
   "id": "95e13e8f",
   "metadata": {},
   "outputs": [
    {
     "data": {
      "text/plain": [
       "list"
      ]
     },
     "execution_count": 11,
     "metadata": {},
     "output_type": "execute_result"
    }
   ],
   "source": [
    "type(dfs)"
   ]
  },
  {
   "cell_type": "code",
   "execution_count": 12,
   "id": "0733d5e0",
   "metadata": {},
   "outputs": [
    {
     "data": {
      "text/plain": [
       "Delayed('DataFrame-1f8c8f16-1a59-405d-ba8d-4ede071e8324')"
      ]
     },
     "execution_count": 12,
     "metadata": {},
     "output_type": "execute_result"
    }
   ],
   "source": [
    "dfs[0]"
   ]
  },
  {
   "cell_type": "code",
   "execution_count": 13,
   "id": "09e40063",
   "metadata": {},
   "outputs": [
    {
     "data": {
      "text/plain": [
       "dask.delayed.DelayedLeaf"
      ]
     },
     "execution_count": 13,
     "metadata": {},
     "output_type": "execute_result"
    }
   ],
   "source": [
    "type(dfs[0])"
   ]
  },
  {
   "cell_type": "code",
   "execution_count": 14,
   "id": "d2c686b0",
   "metadata": {},
   "outputs": [],
   "source": [
    "daskframe = dd.from_delayed(dfs)"
   ]
  },
  {
   "cell_type": "code",
   "execution_count": 15,
   "id": "006f7da7",
   "metadata": {},
   "outputs": [
    {
     "data": {
      "text/html": [
       "<div><strong>Dask DataFrame Structure:</strong></div>\n",
       "<div>\n",
       "<style scoped>\n",
       "    .dataframe tbody tr th:only-of-type {\n",
       "        vertical-align: middle;\n",
       "    }\n",
       "\n",
       "    .dataframe tbody tr th {\n",
       "        vertical-align: top;\n",
       "    }\n",
       "\n",
       "    .dataframe thead th {\n",
       "        text-align: right;\n",
       "    }\n",
       "</style>\n",
       "<table border=\"1\" class=\"dataframe\">\n",
       "  <thead>\n",
       "    <tr style=\"text-align: right;\">\n",
       "      <th></th>\n",
       "      <th>phoEt</th>\n",
       "      <th>phoEta</th>\n",
       "      <th>phoPhi</th>\n",
       "    </tr>\n",
       "    <tr>\n",
       "      <th>npartitions=1</th>\n",
       "      <th></th>\n",
       "      <th></th>\n",
       "      <th></th>\n",
       "    </tr>\n",
       "  </thead>\n",
       "  <tbody>\n",
       "    <tr>\n",
       "      <th></th>\n",
       "      <td>float64</td>\n",
       "      <td>float64</td>\n",
       "      <td>float64</td>\n",
       "    </tr>\n",
       "    <tr>\n",
       "      <th></th>\n",
       "      <td>...</td>\n",
       "      <td>...</td>\n",
       "      <td>...</td>\n",
       "    </tr>\n",
       "  </tbody>\n",
       "</table>\n",
       "</div>\n",
       "<div>Dask Name: from-delayed, 2 tasks</div>"
      ],
      "text/plain": [
       "Dask DataFrame Structure:\n",
       "                 phoEt   phoEta   phoPhi\n",
       "npartitions=1                           \n",
       "               float64  float64  float64\n",
       "                   ...      ...      ...\n",
       "Dask Name: from-delayed, 2 tasks"
      ]
     },
     "execution_count": 15,
     "metadata": {},
     "output_type": "execute_result"
    }
   ],
   "source": [
    "daskframe"
   ]
  },
  {
   "cell_type": "code",
   "execution_count": 17,
   "id": "fac83b41",
   "metadata": {},
   "outputs": [
    {
     "data": {
      "text/plain": [
       "(Delayed('int-1eeea4d3-bccf-4a1d-b572-06610f5aeecb'), 3)"
      ]
     },
     "execution_count": 17,
     "metadata": {},
     "output_type": "execute_result"
    }
   ],
   "source": [
    "daskframe.shape"
   ]
  },
  {
   "cell_type": "code",
   "execution_count": 18,
   "id": "ebd3746f",
   "metadata": {},
   "outputs": [],
   "source": [
    "ddf_final=daskframe.compute()\n"
   ]
  },
  {
   "cell_type": "code",
   "execution_count": 19,
   "id": "5f813f16",
   "metadata": {},
   "outputs": [
    {
     "data": {
      "text/plain": [
       "(6714, 3)"
      ]
     },
     "execution_count": 19,
     "metadata": {},
     "output_type": "execute_result"
    }
   ],
   "source": [
    "ddf_final.shape"
   ]
  },
  {
   "cell_type": "code",
   "execution_count": 20,
   "id": "105dad65",
   "metadata": {},
   "outputs": [
    {
     "data": {
      "text/html": [
       "<div>\n",
       "<style scoped>\n",
       "    .dataframe tbody tr th:only-of-type {\n",
       "        vertical-align: middle;\n",
       "    }\n",
       "\n",
       "    .dataframe tbody tr th {\n",
       "        vertical-align: top;\n",
       "    }\n",
       "\n",
       "    .dataframe thead th {\n",
       "        text-align: right;\n",
       "    }\n",
       "</style>\n",
       "<table border=\"1\" class=\"dataframe\">\n",
       "  <thead>\n",
       "    <tr style=\"text-align: right;\">\n",
       "      <th></th>\n",
       "      <th>phoEt</th>\n",
       "      <th>phoEta</th>\n",
       "      <th>phoPhi</th>\n",
       "    </tr>\n",
       "    <tr>\n",
       "      <th>entry</th>\n",
       "      <th></th>\n",
       "      <th></th>\n",
       "      <th></th>\n",
       "    </tr>\n",
       "  </thead>\n",
       "  <tbody>\n",
       "    <tr>\n",
       "      <th>0</th>\n",
       "      <td>7.483557</td>\n",
       "      <td>-0.266011</td>\n",
       "      <td>-2.647597</td>\n",
       "    </tr>\n",
       "    <tr>\n",
       "      <th>1</th>\n",
       "      <td>4.799117</td>\n",
       "      <td>0.347738</td>\n",
       "      <td>0.489327</td>\n",
       "    </tr>\n",
       "    <tr>\n",
       "      <th>2</th>\n",
       "      <td>3.016750</td>\n",
       "      <td>-0.861483</td>\n",
       "      <td>1.996060</td>\n",
       "    </tr>\n",
       "    <tr>\n",
       "      <th>3</th>\n",
       "      <td>4.576744</td>\n",
       "      <td>-2.297349</td>\n",
       "      <td>-2.529293</td>\n",
       "    </tr>\n",
       "    <tr>\n",
       "      <th>4</th>\n",
       "      <td>3.767993</td>\n",
       "      <td>0.890022</td>\n",
       "      <td>-2.956455</td>\n",
       "    </tr>\n",
       "    <tr>\n",
       "      <th>5</th>\n",
       "      <td>14.353841</td>\n",
       "      <td>-1.475815</td>\n",
       "      <td>-0.549745</td>\n",
       "    </tr>\n",
       "    <tr>\n",
       "      <th>6</th>\n",
       "      <td>12.364908</td>\n",
       "      <td>1.468675</td>\n",
       "      <td>2.494169</td>\n",
       "    </tr>\n",
       "    <tr>\n",
       "      <th>7</th>\n",
       "      <td>9.231537</td>\n",
       "      <td>-1.366340</td>\n",
       "      <td>1.249507</td>\n",
       "    </tr>\n",
       "    <tr>\n",
       "      <th>8</th>\n",
       "      <td>6.977374</td>\n",
       "      <td>1.371888</td>\n",
       "      <td>-1.846761</td>\n",
       "    </tr>\n",
       "    <tr>\n",
       "      <th>9</th>\n",
       "      <td>3.294377</td>\n",
       "      <td>1.453918</td>\n",
       "      <td>3.046520</td>\n",
       "    </tr>\n",
       "  </tbody>\n",
       "</table>\n",
       "</div>"
      ],
      "text/plain": [
       "           phoEt    phoEta    phoPhi\n",
       "entry                               \n",
       "0       7.483557 -0.266011 -2.647597\n",
       "1       4.799117  0.347738  0.489327\n",
       "2       3.016750 -0.861483  1.996060\n",
       "3       4.576744 -2.297349 -2.529293\n",
       "4       3.767993  0.890022 -2.956455\n",
       "5      14.353841 -1.475815 -0.549745\n",
       "6      12.364908  1.468675  2.494169\n",
       "7       9.231537 -1.366340  1.249507\n",
       "8       6.977374  1.371888 -1.846761\n",
       "9       3.294377  1.453918  3.046520"
      ]
     },
     "execution_count": 20,
     "metadata": {},
     "output_type": "execute_result"
    }
   ],
   "source": [
    "ddf_final.head(10)"
   ]
  },
  {
   "cell_type": "code",
   "execution_count": null,
   "id": "4399a46c",
   "metadata": {},
   "outputs": [],
   "source": []
  }
 ],
 "metadata": {
  "kernelspec": {
   "display_name": "Python 3 (ipykernel)",
   "language": "python",
   "name": "python3"
  },
  "language_info": {
   "codemirror_mode": {
    "name": "ipython",
    "version": 3
   },
   "file_extension": ".py",
   "mimetype": "text/x-python",
   "name": "python",
   "nbconvert_exporter": "python",
   "pygments_lexer": "ipython3",
   "version": "3.9.7"
  }
 },
 "nbformat": 4,
 "nbformat_minor": 5
}
