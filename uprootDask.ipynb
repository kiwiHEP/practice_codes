{
 "cells": [
  {
   "cell_type": "code",
   "execution_count": 1,
   "id": "e50c2c75-d109-44fb-9c50-5d08f0dae0db",
   "metadata": {},
   "outputs": [],
   "source": [
    "import uproot3\n",
    "import dask.dataframe as dd"
   ]
  },
  {
   "cell_type": "code",
   "execution_count": 3,
   "id": "fb3b7a00",
   "metadata": {},
   "outputs": [],
   "source": [
    "events = uproot3.open(\"mvaTrees_flatPi0.root\")[\"mergedPi0_SCTree\"]"
   ]
  },
  {
   "cell_type": "code",
   "execution_count": 7,
   "id": "ea435c83",
   "metadata": {},
   "outputs": [],
   "source": [
    "branches = [\"phoEt\",\"phoEta\",\"phoPhi\"]"
   ]
  },
  {
   "cell_type": "code",
   "execution_count": 8,
   "id": "c7c25882",
   "metadata": {},
   "outputs": [],
   "source": [
    "pd_dataframe = events.pandas.df(branches)"
   ]
  },
  {
   "cell_type": "code",
   "execution_count": 9,
   "id": "5244f3a8",
   "metadata": {},
   "outputs": [],
   "source": [
    "photon_daskFrame = dd.from_pandas(pd_dataframe, npartitions=10)"
   ]
  },
  {
   "cell_type": "code",
   "execution_count": 10,
   "id": "f43df1fb",
   "metadata": {},
   "outputs": [
    {
     "data": {
      "text/html": [
       "<div><strong>Dask DataFrame Structure:</strong></div>\n",
       "<div>\n",
       "<style scoped>\n",
       "    .dataframe tbody tr th:only-of-type {\n",
       "        vertical-align: middle;\n",
       "    }\n",
       "\n",
       "    .dataframe tbody tr th {\n",
       "        vertical-align: top;\n",
       "    }\n",
       "\n",
       "    .dataframe thead th {\n",
       "        text-align: right;\n",
       "    }\n",
       "</style>\n",
       "<table border=\"1\" class=\"dataframe\">\n",
       "  <thead>\n",
       "    <tr style=\"text-align: right;\">\n",
       "      <th></th>\n",
       "      <th>phoEt</th>\n",
       "      <th>phoEta</th>\n",
       "      <th>phoPhi</th>\n",
       "    </tr>\n",
       "    <tr>\n",
       "      <th>npartitions=10</th>\n",
       "      <th></th>\n",
       "      <th></th>\n",
       "      <th></th>\n",
       "    </tr>\n",
       "  </thead>\n",
       "  <tbody>\n",
       "    <tr>\n",
       "      <th>0</th>\n",
       "      <td>float64</td>\n",
       "      <td>float64</td>\n",
       "      <td>float64</td>\n",
       "    </tr>\n",
       "    <tr>\n",
       "      <th>672</th>\n",
       "      <td>...</td>\n",
       "      <td>...</td>\n",
       "      <td>...</td>\n",
       "    </tr>\n",
       "    <tr>\n",
       "      <th>...</th>\n",
       "      <td>...</td>\n",
       "      <td>...</td>\n",
       "      <td>...</td>\n",
       "    </tr>\n",
       "    <tr>\n",
       "      <th>6048</th>\n",
       "      <td>...</td>\n",
       "      <td>...</td>\n",
       "      <td>...</td>\n",
       "    </tr>\n",
       "    <tr>\n",
       "      <th>6713</th>\n",
       "      <td>...</td>\n",
       "      <td>...</td>\n",
       "      <td>...</td>\n",
       "    </tr>\n",
       "  </tbody>\n",
       "</table>\n",
       "</div>\n",
       "<div>Dask Name: from_pandas, 10 tasks</div>"
      ],
      "text/plain": [
       "Dask DataFrame Structure:\n",
       "                  phoEt   phoEta   phoPhi\n",
       "npartitions=10                           \n",
       "0               float64  float64  float64\n",
       "672                 ...      ...      ...\n",
       "...                 ...      ...      ...\n",
       "6048                ...      ...      ...\n",
       "6713                ...      ...      ...\n",
       "Dask Name: from_pandas, 10 tasks"
      ]
     },
     "execution_count": 10,
     "metadata": {},
     "output_type": "execute_result"
    }
   ],
   "source": [
    "photon_daskFrame"
   ]
  },
  {
   "cell_type": "code",
   "execution_count": null,
   "id": "5a723029",
   "metadata": {},
   "outputs": [],
   "source": []
  }
 ],
 "metadata": {
  "kernelspec": {
   "display_name": "Python 3 (ipykernel)",
   "language": "python",
   "name": "python3"
  },
  "language_info": {
   "codemirror_mode": {
    "name": "ipython",
    "version": 3
   },
   "file_extension": ".py",
   "mimetype": "text/x-python",
   "name": "python",
   "nbconvert_exporter": "python",
   "pygments_lexer": "ipython3",
   "version": "3.9.7"
  }
 },
 "nbformat": 4,
 "nbformat_minor": 5
}
