{
 "cells": [
  {
   "cell_type": "markdown",
   "id": "977faa00",
   "metadata": {},
   "source": [
    "Followed this tutorial from https://github.com/scikit-hep/uproot3#introduction"
   ]
  },
  {
   "cell_type": "code",
   "execution_count": 1,
   "id": "ac949cc8",
   "metadata": {},
   "outputs": [
    {
     "name": "stdout",
     "output_type": "stream",
     "text": [
      "Collecting uproot\n",
      "  Downloading uproot-4.2.2-py2.py3-none-any.whl (298 kB)\n",
      "\u001b[K     |████████████████████████████████| 298 kB 5.2 MB/s eta 0:00:01\n",
      "\u001b[?25hRequirement already satisfied: numpy in /home/ruchi/anaconda3/lib/python3.9/site-packages (from uproot) (1.20.3)\n",
      "Requirement already satisfied: setuptools in /home/ruchi/anaconda3/lib/python3.9/site-packages (from uproot) (58.0.4)\n",
      "Installing collected packages: uproot\n",
      "Successfully installed uproot-4.2.2\n",
      "Note: you may need to restart the kernel to use updated packages.\n"
     ]
    }
   ],
   "source": [
    "pip install uproot "
   ]
  },
  {
   "cell_type": "code",
   "execution_count": null,
   "id": "3f81232b",
   "metadata": {},
   "outputs": [],
   "source": []
  },
  {
   "cell_type": "code",
   "execution_count": 2,
   "id": "3692538e",
   "metadata": {},
   "outputs": [],
   "source": [
    "import uproot"
   ]
  },
  {
   "cell_type": "code",
   "execution_count": 3,
   "id": "05fa561b",
   "metadata": {},
   "outputs": [],
   "source": [
    "file  = uproot.open(\"mvaTrees_flatPi0.root\")"
   ]
  },
  {
   "cell_type": "markdown",
   "id": "4e027aa7",
   "metadata": {},
   "source": [
    "### uproot.open behaves like a Python dictionary; it has keys(), values(), and key-value access with square brackets."
   ]
  },
  {
   "cell_type": "code",
   "execution_count": 4,
   "id": "3b54956d",
   "metadata": {},
   "outputs": [
    {
     "data": {
      "text/plain": [
       "<ReadOnlyDirectory '/' at 0x7fa096d75580>"
      ]
     },
     "execution_count": 4,
     "metadata": {},
     "output_type": "execute_result"
    }
   ],
   "source": [
    "file"
   ]
  },
  {
   "cell_type": "code",
   "execution_count": 5,
   "id": "fc71d78d",
   "metadata": {},
   "outputs": [
    {
     "data": {
      "text/plain": [
       "['gen_Pi0Gamma1DR;2',\n",
       " 'gen_Pi0Gamma2DR;2',\n",
       " 'gen_p0daugterGammaGammaDR;2',\n",
       " 'leadPi0_SCTree;2',\n",
       " 'mergedPi0_SCTree;2',\n",
       " 'subLeadPi0Gamma_SCTree;2']"
      ]
     },
     "execution_count": 5,
     "metadata": {},
     "output_type": "execute_result"
    }
   ],
   "source": [
    "file.keys()"
   ]
  },
  {
   "cell_type": "code",
   "execution_count": 6,
   "id": "509f5efa",
   "metadata": {},
   "outputs": [
    {
     "data": {
      "text/plain": [
       "[<TH1F (version 3) at 0x7fa0968ccfd0>,\n",
       " <TH1F (version 3) at 0x7fa096605430>,\n",
       " <TH1F (version 3) at 0x7fa0965d6490>,\n",
       " <TTree 'leadPi0_SCTree' (151 branches) at 0x7fa096d5acd0>,\n",
       " <TTree 'mergedPi0_SCTree' (151 branches) at 0x7fa096a7f0d0>,\n",
       " <TTree 'subLeadPi0Gamma_SCTree' (151 branches) at 0x7fa0962dacd0>]"
      ]
     },
     "execution_count": 6,
     "metadata": {},
     "output_type": "execute_result"
    }
   ],
   "source": [
    "file.values()"
   ]
  },
  {
   "cell_type": "code",
   "execution_count": 10,
   "id": "2b659238",
   "metadata": {},
   "outputs": [
    {
     "data": {
      "text/plain": [
       "<TTree 'mergedPi0_SCTree' (151 branches) at 0x7fa096a7f0d0>"
      ]
     },
     "execution_count": 10,
     "metadata": {},
     "output_type": "execute_result"
    }
   ],
   "source": [
    "file[\"mergedPi0_SCTree\"]"
   ]
  },
  {
   "cell_type": "code",
   "execution_count": 11,
   "id": "4f37f43b",
   "metadata": {},
   "outputs": [
    {
     "data": {
      "text/plain": [
       "[<TBranch 'phoE' at 0x7fa096a727c0>,\n",
       " <TBranch 'phoEt' at 0x7fa096a6df10>,\n",
       " <TBranch 'phoEta' at 0x7fa096a677f0>,\n",
       " <TBranch 'phoPhi' at 0x7fa096a61790>,\n",
       " <TBranch 'phoSCE' at 0x7fa096a61130>,\n",
       " <TBranch 'phoSCEt' at 0x7fa096a54a30>,\n",
       " <TBranch 'phoSCRawE' at 0x7fa096a54580>,\n",
       " <TBranch 'phoSCEta' at 0x7fa096a51c40>,\n",
       " <TBranch 'phoSCPhi' at 0x7fa096a5cac0>,\n",
       " <TBranch 'phoSCEtaWidth' at 0x7fa096a5c130>,\n",
       " <TBranch 'phoSCPhiWidth' at 0x7fa0967c82e0>,\n",
       " <TBranch 'phoSCBrem' at 0x7fa0967c2940>,\n",
       " <TBranch 'phoSCnBC' at 0x7fa0967c22e0>,\n",
       " <TBranch 'phoESEn' at 0x7fa0967bd3a0>,\n",
       " <TBranch 'phoPSCE' at 0x7fa0967b27c0>,\n",
       " <TBranch 'phoPSCRawE' at 0x7fa096a57d90>,\n",
       " <TBranch 'phoPSCEta' at 0x7fa096d72c70>,\n",
       " <TBranch 'phoPSCPhi' at 0x7fa095bbcb20>,\n",
       " <TBranch 'phoPSCEtaWidth' at 0x7fa095b55310>,\n",
       " <TBranch 'phoPSCPhiWidth' at 0x7fa095b55ac0>,\n",
       " <TBranch 'phoPSCBrem' at 0x7fa095b462b0>,\n",
       " <TBranch 'phoPSCnHits' at 0x7fa095b46a60>,\n",
       " <TBranch 'phoPSCflags' at 0x7fa095b5e250>,\n",
       " <TBranch 'phoPSCinClean' at 0x7fa095b5ea00>,\n",
       " <TBranch 'phoPSCinUnClean' at 0x7fa095b6e1f0>,\n",
       " <TBranch 'phoPSCnBC' at 0x7fa095b6e9a0>,\n",
       " <TBranch 'phoPESEn' at 0x7fa095c02190>,\n",
       " <TBranch 'phoIsPFPhoton' at 0x7fa095c02940>,\n",
       " <TBranch 'phoIsStandardPhoton' at 0x7fa095c04130>,\n",
       " <TBranch 'phoHasPixelSeed' at 0x7fa095c048e0>,\n",
       " <TBranch 'phoHasConversionTracks' at 0x7fa095c0e0d0>,\n",
       " <TBranch 'phoHadTowerOverEm' at 0x7fa095c0e880>,\n",
       " <TBranch 'phoHoverE' at 0x7fa095c0efa0>,\n",
       " <TBranch 'phoHoverEValid' at 0x7fa095c28820>,\n",
       " <TBranch 'phoSigmaIEtaIEta' at 0x7fa095c28fd0>,\n",
       " <TBranch 'phoR9' at 0x7fa0959fe7c0>,\n",
       " <TBranch 'phoE1x5' at 0x7fa0959fef70>,\n",
       " <TBranch 'phoE2x5' at 0x7fa0959f6760>,\n",
       " <TBranch 'phoE3x3' at 0x7fa0959f6f10>,\n",
       " <TBranch 'phoE5x5' at 0x7fa095a06700>,\n",
       " <TBranch 'phoMaxEnergyXtal' at 0x7fa095a06eb0>,\n",
       " <TBranch 'phoSigmaEtaEta' at 0x7fa095a156a0>,\n",
       " <TBranch 'phoSigmaIEtaIEta_2012' at 0x7fa095a15e50>,\n",
       " <TBranch 'phoR9_2012' at 0x7fa095a13640>,\n",
       " <TBranch 'phoE1x5_2012' at 0x7fa095a13df0>,\n",
       " <TBranch 'phoE2x5_2012' at 0x7fa095a265e0>,\n",
       " <TBranch 'phoE3x3_2012' at 0x7fa095a26d90>,\n",
       " <TBranch 'phoE5x5_2012' at 0x7fa095a2b580>,\n",
       " <TBranch 'phoMaxEnergyXtal_2012' at 0x7fa095a2bd30>,\n",
       " <TBranch 'phoSigmaEtaEta_2012' at 0x7fa0959b6520>,\n",
       " <TBranch 'phoHadTowerOverEm1' at 0x7fa0959b6cd0>,\n",
       " <TBranch 'phoHadTowerOverEm2' at 0x7fa0959bb4c0>,\n",
       " <TBranch 'phoHoverE1' at 0x7fa0959bbc70>,\n",
       " <TBranch 'phoHoverE2' at 0x7fa0959cc460>,\n",
       " <TBranch 'phoSigmaIEtaIPhi' at 0x7fa0959ccc10>,\n",
       " <TBranch 'phoSigmaIPhiIPhi' at 0x7fa0959d9400>,\n",
       " <TBranch 'phoR1x5' at 0x7fa0959d9bb0>,\n",
       " <TBranch 'phoR2x5' at 0x7fa0959e13a0>,\n",
       " <TBranch 'phoE2nd' at 0x7fa0959e1b50>,\n",
       " <TBranch 'phoETop' at 0x7fa0959eb340>,\n",
       " <TBranch 'phoEBottom' at 0x7fa0959ebaf0>,\n",
       " <TBranch 'phoELeft' at 0x7fa0959352e0>,\n",
       " <TBranch 'phoERight' at 0x7fa095935a90>,\n",
       " <TBranch 'phoE1x3' at 0x7fa09593f280>,\n",
       " <TBranch 'phoE2x2' at 0x7fa09593fa30>,\n",
       " <TBranch 'phoE2x5Max' at 0x7fa09594a220>,\n",
       " <TBranch 'phoE2x5Top' at 0x7fa09594a9d0>,\n",
       " <TBranch 'phoE2x5Bottom' at 0x7fa0959551c0>,\n",
       " <TBranch 'phoE2x5Left' at 0x7fa095955970>,\n",
       " <TBranch 'phoE2x5Right' at 0x7fa095957160>,\n",
       " <TBranch 'phoSigmaIEtaIPhi_2012' at 0x7fa095957910>,\n",
       " <TBranch 'phoSigmaIPhiIPhi_2012' at 0x7fa095962100>,\n",
       " <TBranch 'phoR1x5_2012' at 0x7fa0959628b0>,\n",
       " <TBranch 'phoR2x5_2012' at 0x7fa095962fd0>,\n",
       " <TBranch 'phoE2nd_2012' at 0x7fa09596d850>,\n",
       " <TBranch 'phoETop_2012' at 0x7fa09596df70>,\n",
       " <TBranch 'phoEBottom_2012' at 0x7fa0959077f0>,\n",
       " <TBranch 'phoELeft_2012' at 0x7fa095907fa0>,\n",
       " <TBranch 'phoERight_2012' at 0x7fa095902790>,\n",
       " <TBranch 'phoE1x3_2012' at 0x7fa095902f40>,\n",
       " <TBranch 'phoE2x2_2012' at 0x7fa09592d730>,\n",
       " <TBranch 'phoE2x5Max_2012' at 0x7fa09592dee0>,\n",
       " <TBranch 'phoE2x5Top_2012' at 0x7fa0959116d0>,\n",
       " <TBranch 'phoE2x5Bottom_2012' at 0x7fa095911e80>,\n",
       " <TBranch 'phoE2x5Left_2012' at 0x7fa09591d670>,\n",
       " <TBranch 'phoE2x5Right_2012' at 0x7fa09591de20>,\n",
       " <TBranch 'phoBC1E' at 0x7fa095928610>,\n",
       " <TBranch 'phoBC1Ecorr' at 0x7fa095928dc0>,\n",
       " <TBranch 'phoBC1Eta' at 0x7fa0958b25b0>,\n",
       " <TBranch 'phoBC1Phi' at 0x7fa0958b2d60>,\n",
       " <TBranch 'phoBC1size' at 0x7fa0958c1550>,\n",
       " <TBranch 'phoBC1flags' at 0x7fa0958c1d00>,\n",
       " <TBranch 'phoBC1inClean' at 0x7fa0958ca4f0>,\n",
       " <TBranch 'phoBC1inUnClean' at 0x7fa0958caca0>,\n",
       " <TBranch 'phoBC1rawID' at 0x7fa0958d3490>,\n",
       " <TBranch 'pho_seedTime' at 0x7fa0958d3c70>,\n",
       " <TBranch 'pfcIso1' at 0x7fa0958dc460>,\n",
       " <TBranch 'pfcIso2' at 0x7fa0958dcc10>,\n",
       " <TBranch 'pfcIso3' at 0x7fa0958eb400>,\n",
       " <TBranch 'pfcIso4' at 0x7fa0958ebbb0>,\n",
       " <TBranch 'pfcIso5' at 0x7fa0958793a0>,\n",
       " <TBranch 'pfpIso1' at 0x7fa095879b50>,\n",
       " <TBranch 'pfpIso2' at 0x7fa095877340>,\n",
       " <TBranch 'pfpIso3' at 0x7fa095877af0>,\n",
       " <TBranch 'pfpIso4' at 0x7fa0958842e0>,\n",
       " <TBranch 'pfpIso5' at 0x7fa095884a90>,\n",
       " <TBranch 'pfnIso1' at 0x7fa09588b280>,\n",
       " <TBranch 'pfnIso2' at 0x7fa09588ba30>,\n",
       " <TBranch 'pfnIso3' at 0x7fa095896220>,\n",
       " <TBranch 'pfnIso4' at 0x7fa0958969d0>,\n",
       " <TBranch 'pfnIso5' at 0x7fa0958a11c0>,\n",
       " <TBranch 'pfpIso1subSC' at 0x7fa0958a1970>,\n",
       " <TBranch 'pfpIso2subSC' at 0x7fa0958ab160>,\n",
       " <TBranch 'pfpIso3subSC' at 0x7fa0958ab910>,\n",
       " <TBranch 'pfpIso4subSC' at 0x7fa0957bf100>,\n",
       " <TBranch 'pfpIso5subSC' at 0x7fa0957bf8b0>,\n",
       " <TBranch 'pfcIso1subUE' at 0x7fa0957bffd0>,\n",
       " <TBranch 'pfcIso2subUE' at 0x7fa0957c3850>,\n",
       " <TBranch 'pfcIso3subUE' at 0x7fa0957c3f70>,\n",
       " <TBranch 'pfcIso4subUE' at 0x7fa0957c77f0>,\n",
       " <TBranch 'pfcIso5subUE' at 0x7fa0957c7fa0>,\n",
       " <TBranch 'pfpIso1subUE' at 0x7fa0957cb790>,\n",
       " <TBranch 'pfpIso2subUE' at 0x7fa0957cbf40>,\n",
       " <TBranch 'pfpIso3subUE' at 0x7fa0957cd730>,\n",
       " <TBranch 'pfpIso4subUE' at 0x7fa0957cdee0>,\n",
       " <TBranch 'pfpIso5subUE' at 0x7fa0957d16d0>,\n",
       " <TBranch 'pfnIso1subUE' at 0x7fa0957d1e80>,\n",
       " <TBranch 'pfnIso2subUE' at 0x7fa0957d5670>,\n",
       " <TBranch 'pfnIso3subUE' at 0x7fa0957d5e20>,\n",
       " <TBranch 'pfnIso4subUE' at 0x7fa0957da610>,\n",
       " <TBranch 'pfnIso5subUE' at 0x7fa0957dadc0>,\n",
       " <TBranch 'pfpIso1subSCsubUE' at 0x7fa0957dd5b0>,\n",
       " <TBranch 'pfpIso2subSCsubUE' at 0x7fa0957ddd60>,\n",
       " <TBranch 'pfpIso3subSCsubUE' at 0x7fa0957e1550>,\n",
       " <TBranch 'pfpIso4subSCsubUE' at 0x7fa0957e1d00>,\n",
       " <TBranch 'pfpIso5subSCsubUE' at 0x7fa0957e54f0>,\n",
       " <TBranch 'pfcIso1pTgt1p0subUE' at 0x7fa0957e5ca0>,\n",
       " <TBranch 'pfcIso2pTgt1p0subUE' at 0x7fa0957e8490>,\n",
       " <TBranch 'pfcIso3pTgt1p0subUE' at 0x7fa0957e8c40>,\n",
       " <TBranch 'pfcIso4pTgt1p0subUE' at 0x7fa0957ec430>,\n",
       " <TBranch 'pfcIso5pTgt1p0subUE' at 0x7fa0957ecbe0>,\n",
       " <TBranch 'pfcIso1pTgt2p0subUE' at 0x7fa0957703d0>,\n",
       " <TBranch 'pfcIso2pTgt2p0subUE' at 0x7fa095770b80>,\n",
       " <TBranch 'pfcIso3pTgt2p0subUE' at 0x7fa095775370>,\n",
       " <TBranch 'pfcIso4pTgt2p0subUE' at 0x7fa095775b20>,\n",
       " <TBranch 'pfcIso5pTgt2p0subUE' at 0x7fa095779310>,\n",
       " <TBranch 'pfcIso1pTgt3p0subUE' at 0x7fa095779ac0>,\n",
       " <TBranch 'pfcIso2pTgt3p0subUE' at 0x7fa09577b2b0>,\n",
       " <TBranch 'pfcIso3pTgt3p0subUE' at 0x7fa09577ba60>,\n",
       " <TBranch 'pfcIso4pTgt3p0subUE' at 0x7fa09577f250>,\n",
       " <TBranch 'pfcIso5pTgt3p0subUE' at 0x7fa09577fa00>]"
      ]
     },
     "execution_count": 11,
     "metadata": {},
     "output_type": "execute_result"
    }
   ],
   "source": [
    "file[\"mergedPi0_SCTree\"].values()"
   ]
  },
  {
   "cell_type": "markdown",
   "id": "04b9cb8b",
   "metadata": {},
   "source": [
    "#### a tree can be read directly"
   ]
  },
  {
   "cell_type": "code",
   "execution_count": 12,
   "id": "ce0a8448",
   "metadata": {},
   "outputs": [],
   "source": [
    "events = uproot.open(\"mvaTrees_flatPi0.root\")[\"mergedPi0_SCTree\"]"
   ]
  },
  {
   "cell_type": "code",
   "execution_count": 13,
   "id": "8201a2f4",
   "metadata": {},
   "outputs": [
    {
     "data": {
      "text/plain": [
       "<TTree 'mergedPi0_SCTree' (151 branches) at 0x7fa0951acf70>"
      ]
     },
     "execution_count": 13,
     "metadata": {},
     "output_type": "execute_result"
    }
   ],
   "source": [
    "events"
   ]
  },
  {
   "cell_type": "markdown",
   "id": "79321b76",
   "metadata": {},
   "source": [
    "#### TTreeMethods objects behave like Python dicts of TBranchMethods objects"
   ]
  },
  {
   "cell_type": "code",
   "execution_count": 14,
   "id": "887a9272",
   "metadata": {},
   "outputs": [
    {
     "data": {
      "text/plain": [
       "['phoE',\n",
       " 'phoEt',\n",
       " 'phoEta',\n",
       " 'phoPhi',\n",
       " 'phoSCE',\n",
       " 'phoSCEt',\n",
       " 'phoSCRawE',\n",
       " 'phoSCEta',\n",
       " 'phoSCPhi',\n",
       " 'phoSCEtaWidth',\n",
       " 'phoSCPhiWidth',\n",
       " 'phoSCBrem',\n",
       " 'phoSCnBC',\n",
       " 'phoESEn',\n",
       " 'phoPSCE',\n",
       " 'phoPSCRawE',\n",
       " 'phoPSCEta',\n",
       " 'phoPSCPhi',\n",
       " 'phoPSCEtaWidth',\n",
       " 'phoPSCPhiWidth',\n",
       " 'phoPSCBrem',\n",
       " 'phoPSCnHits',\n",
       " 'phoPSCflags',\n",
       " 'phoPSCinClean',\n",
       " 'phoPSCinUnClean',\n",
       " 'phoPSCnBC',\n",
       " 'phoPESEn',\n",
       " 'phoIsPFPhoton',\n",
       " 'phoIsStandardPhoton',\n",
       " 'phoHasPixelSeed',\n",
       " 'phoHasConversionTracks',\n",
       " 'phoHadTowerOverEm',\n",
       " 'phoHoverE',\n",
       " 'phoHoverEValid',\n",
       " 'phoSigmaIEtaIEta',\n",
       " 'phoR9',\n",
       " 'phoE1x5',\n",
       " 'phoE2x5',\n",
       " 'phoE3x3',\n",
       " 'phoE5x5',\n",
       " 'phoMaxEnergyXtal',\n",
       " 'phoSigmaEtaEta',\n",
       " 'phoSigmaIEtaIEta_2012',\n",
       " 'phoR9_2012',\n",
       " 'phoE1x5_2012',\n",
       " 'phoE2x5_2012',\n",
       " 'phoE3x3_2012',\n",
       " 'phoE5x5_2012',\n",
       " 'phoMaxEnergyXtal_2012',\n",
       " 'phoSigmaEtaEta_2012',\n",
       " 'phoHadTowerOverEm1',\n",
       " 'phoHadTowerOverEm2',\n",
       " 'phoHoverE1',\n",
       " 'phoHoverE2',\n",
       " 'phoSigmaIEtaIPhi',\n",
       " 'phoSigmaIPhiIPhi',\n",
       " 'phoR1x5',\n",
       " 'phoR2x5',\n",
       " 'phoE2nd',\n",
       " 'phoETop',\n",
       " 'phoEBottom',\n",
       " 'phoELeft',\n",
       " 'phoERight',\n",
       " 'phoE1x3',\n",
       " 'phoE2x2',\n",
       " 'phoE2x5Max',\n",
       " 'phoE2x5Top',\n",
       " 'phoE2x5Bottom',\n",
       " 'phoE2x5Left',\n",
       " 'phoE2x5Right',\n",
       " 'phoSigmaIEtaIPhi_2012',\n",
       " 'phoSigmaIPhiIPhi_2012',\n",
       " 'phoR1x5_2012',\n",
       " 'phoR2x5_2012',\n",
       " 'phoE2nd_2012',\n",
       " 'phoETop_2012',\n",
       " 'phoEBottom_2012',\n",
       " 'phoELeft_2012',\n",
       " 'phoERight_2012',\n",
       " 'phoE1x3_2012',\n",
       " 'phoE2x2_2012',\n",
       " 'phoE2x5Max_2012',\n",
       " 'phoE2x5Top_2012',\n",
       " 'phoE2x5Bottom_2012',\n",
       " 'phoE2x5Left_2012',\n",
       " 'phoE2x5Right_2012',\n",
       " 'phoBC1E',\n",
       " 'phoBC1Ecorr',\n",
       " 'phoBC1Eta',\n",
       " 'phoBC1Phi',\n",
       " 'phoBC1size',\n",
       " 'phoBC1flags',\n",
       " 'phoBC1inClean',\n",
       " 'phoBC1inUnClean',\n",
       " 'phoBC1rawID',\n",
       " 'pho_seedTime',\n",
       " 'pfcIso1',\n",
       " 'pfcIso2',\n",
       " 'pfcIso3',\n",
       " 'pfcIso4',\n",
       " 'pfcIso5',\n",
       " 'pfpIso1',\n",
       " 'pfpIso2',\n",
       " 'pfpIso3',\n",
       " 'pfpIso4',\n",
       " 'pfpIso5',\n",
       " 'pfnIso1',\n",
       " 'pfnIso2',\n",
       " 'pfnIso3',\n",
       " 'pfnIso4',\n",
       " 'pfnIso5',\n",
       " 'pfpIso1subSC',\n",
       " 'pfpIso2subSC',\n",
       " 'pfpIso3subSC',\n",
       " 'pfpIso4subSC',\n",
       " 'pfpIso5subSC',\n",
       " 'pfcIso1subUE',\n",
       " 'pfcIso2subUE',\n",
       " 'pfcIso3subUE',\n",
       " 'pfcIso4subUE',\n",
       " 'pfcIso5subUE',\n",
       " 'pfpIso1subUE',\n",
       " 'pfpIso2subUE',\n",
       " 'pfpIso3subUE',\n",
       " 'pfpIso4subUE',\n",
       " 'pfpIso5subUE',\n",
       " 'pfnIso1subUE',\n",
       " 'pfnIso2subUE',\n",
       " 'pfnIso3subUE',\n",
       " 'pfnIso4subUE',\n",
       " 'pfnIso5subUE',\n",
       " 'pfpIso1subSCsubUE',\n",
       " 'pfpIso2subSCsubUE',\n",
       " 'pfpIso3subSCsubUE',\n",
       " 'pfpIso4subSCsubUE',\n",
       " 'pfpIso5subSCsubUE',\n",
       " 'pfcIso1pTgt1p0subUE',\n",
       " 'pfcIso2pTgt1p0subUE',\n",
       " 'pfcIso3pTgt1p0subUE',\n",
       " 'pfcIso4pTgt1p0subUE',\n",
       " 'pfcIso5pTgt1p0subUE',\n",
       " 'pfcIso1pTgt2p0subUE',\n",
       " 'pfcIso2pTgt2p0subUE',\n",
       " 'pfcIso3pTgt2p0subUE',\n",
       " 'pfcIso4pTgt2p0subUE',\n",
       " 'pfcIso5pTgt2p0subUE',\n",
       " 'pfcIso1pTgt3p0subUE',\n",
       " 'pfcIso2pTgt3p0subUE',\n",
       " 'pfcIso3pTgt3p0subUE',\n",
       " 'pfcIso4pTgt3p0subUE',\n",
       " 'pfcIso5pTgt3p0subUE']"
      ]
     },
     "execution_count": 14,
     "metadata": {},
     "output_type": "execute_result"
    }
   ],
   "source": [
    "events.keys()"
   ]
  },
  {
   "cell_type": "code",
   "execution_count": 15,
   "id": "18adc4f4",
   "metadata": {},
   "outputs": [
    {
     "name": "stdout",
     "output_type": "stream",
     "text": [
      "name                 | typename                 | interpretation                \n",
      "---------------------+--------------------------+-------------------------------\n",
      "phoE                 | double                   | AsDtype('>f8')\n",
      "phoEt                | double                   | AsDtype('>f8')\n",
      "phoEta               | double                   | AsDtype('>f8')\n",
      "phoPhi               | double                   | AsDtype('>f8')\n",
      "phoSCE               | double                   | AsDtype('>f8')\n",
      "phoSCEt              | double                   | AsDtype('>f8')\n",
      "phoSCRawE            | double                   | AsDtype('>f8')\n",
      "phoSCEta             | double                   | AsDtype('>f8')\n",
      "phoSCPhi             | double                   | AsDtype('>f8')\n",
      "phoSCEtaWidth        | double                   | AsDtype('>f8')\n",
      "phoSCPhiWidth        | double                   | AsDtype('>f8')\n",
      "phoSCBrem            | double                   | AsDtype('>f8')\n",
      "phoSCnBC             | double                   | AsDtype('>f8')\n",
      "phoESEn              | double                   | AsDtype('>f8')\n",
      "phoPSCE              | double                   | AsDtype('>f8')\n",
      "phoPSCRawE           | double                   | AsDtype('>f8')\n",
      "phoPSCEta            | double                   | AsDtype('>f8')\n",
      "phoPSCPhi            | double                   | AsDtype('>f8')\n",
      "phoPSCEtaWidth       | double                   | AsDtype('>f8')\n",
      "phoPSCPhiWidth       | double                   | AsDtype('>f8')\n",
      "phoPSCBrem           | double                   | AsDtype('>f8')\n",
      "phoPSCnHits          | double                   | AsDtype('>f8')\n",
      "phoPSCflags          | double                   | AsDtype('>f8')\n",
      "phoPSCinClean        | double                   | AsDtype('>f8')\n",
      "phoPSCinUnClean      | double                   | AsDtype('>f8')\n",
      "phoPSCnBC            | double                   | AsDtype('>f8')\n",
      "phoPESEn             | double                   | AsDtype('>f8')\n",
      "phoIsPFPhoton        | double                   | AsDtype('>f8')\n",
      "phoIsStandardPhoton  | double                   | AsDtype('>f8')\n",
      "phoHasPixelSeed      | double                   | AsDtype('>f8')\n",
      "phoHasConversionT... | double                   | AsDtype('>f8')\n",
      "phoHadTowerOverEm    | double                   | AsDtype('>f8')\n",
      "phoHoverE            | double                   | AsDtype('>f8')\n",
      "phoHoverEValid       | double                   | AsDtype('>f8')\n",
      "phoSigmaIEtaIEta     | double                   | AsDtype('>f8')\n",
      "phoR9                | double                   | AsDtype('>f8')\n",
      "phoE1x5              | double                   | AsDtype('>f8')\n",
      "phoE2x5              | double                   | AsDtype('>f8')\n",
      "phoE3x3              | double                   | AsDtype('>f8')\n",
      "phoE5x5              | double                   | AsDtype('>f8')\n",
      "phoMaxEnergyXtal     | double                   | AsDtype('>f8')\n",
      "phoSigmaEtaEta       | double                   | AsDtype('>f8')\n",
      "phoSigmaIEtaIEta_... | double                   | AsDtype('>f8')\n",
      "phoR9_2012           | double                   | AsDtype('>f8')\n",
      "phoE1x5_2012         | double                   | AsDtype('>f8')\n",
      "phoE2x5_2012         | double                   | AsDtype('>f8')\n",
      "phoE3x3_2012         | double                   | AsDtype('>f8')\n",
      "phoE5x5_2012         | double                   | AsDtype('>f8')\n",
      "phoMaxEnergyXtal_... | double                   | AsDtype('>f8')\n",
      "phoSigmaEtaEta_2012  | double                   | AsDtype('>f8')\n",
      "phoHadTowerOverEm1   | double                   | AsDtype('>f8')\n",
      "phoHadTowerOverEm2   | double                   | AsDtype('>f8')\n",
      "phoHoverE1           | double                   | AsDtype('>f8')\n",
      "phoHoverE2           | double                   | AsDtype('>f8')\n",
      "phoSigmaIEtaIPhi     | double                   | AsDtype('>f8')\n",
      "phoSigmaIPhiIPhi     | double                   | AsDtype('>f8')\n",
      "phoR1x5              | double                   | AsDtype('>f8')\n",
      "phoR2x5              | double                   | AsDtype('>f8')\n",
      "phoE2nd              | double                   | AsDtype('>f8')\n",
      "phoETop              | double                   | AsDtype('>f8')\n",
      "phoEBottom           | double                   | AsDtype('>f8')\n",
      "phoELeft             | double                   | AsDtype('>f8')\n",
      "phoERight            | double                   | AsDtype('>f8')\n",
      "phoE1x3              | double                   | AsDtype('>f8')\n",
      "phoE2x2              | double                   | AsDtype('>f8')\n",
      "phoE2x5Max           | double                   | AsDtype('>f8')\n",
      "phoE2x5Top           | double                   | AsDtype('>f8')\n",
      "phoE2x5Bottom        | double                   | AsDtype('>f8')\n",
      "phoE2x5Left          | double                   | AsDtype('>f8')\n",
      "phoE2x5Right         | double                   | AsDtype('>f8')\n",
      "phoSigmaIEtaIPhi_... | double                   | AsDtype('>f8')\n",
      "phoSigmaIPhiIPhi_... | double                   | AsDtype('>f8')\n",
      "phoR1x5_2012         | double                   | AsDtype('>f8')\n",
      "phoR2x5_2012         | double                   | AsDtype('>f8')\n",
      "phoE2nd_2012         | double                   | AsDtype('>f8')\n",
      "phoETop_2012         | double                   | AsDtype('>f8')\n",
      "phoEBottom_2012      | double                   | AsDtype('>f8')\n",
      "phoELeft_2012        | double                   | AsDtype('>f8')\n",
      "phoERight_2012       | double                   | AsDtype('>f8')\n",
      "phoE1x3_2012         | double                   | AsDtype('>f8')\n",
      "phoE2x2_2012         | double                   | AsDtype('>f8')\n",
      "phoE2x5Max_2012      | double                   | AsDtype('>f8')\n",
      "phoE2x5Top_2012      | double                   | AsDtype('>f8')\n",
      "phoE2x5Bottom_2012   | double                   | AsDtype('>f8')\n",
      "phoE2x5Left_2012     | double                   | AsDtype('>f8')\n",
      "phoE2x5Right_2012    | double                   | AsDtype('>f8')\n",
      "phoBC1E              | double                   | AsDtype('>f8')\n",
      "phoBC1Ecorr          | double                   | AsDtype('>f8')\n",
      "phoBC1Eta            | double                   | AsDtype('>f8')\n",
      "phoBC1Phi            | double                   | AsDtype('>f8')\n",
      "phoBC1size           | double                   | AsDtype('>f8')\n",
      "phoBC1flags          | double                   | AsDtype('>f8')\n",
      "phoBC1inClean        | double                   | AsDtype('>f8')\n",
      "phoBC1inUnClean      | double                   | AsDtype('>f8')\n",
      "phoBC1rawID          | double                   | AsDtype('>f8')\n",
      "pho_seedTime         | double                   | AsDtype('>f8')\n",
      "pfcIso1              | double                   | AsDtype('>f8')\n",
      "pfcIso2              | double                   | AsDtype('>f8')\n",
      "pfcIso3              | double                   | AsDtype('>f8')\n",
      "pfcIso4              | double                   | AsDtype('>f8')\n",
      "pfcIso5              | double                   | AsDtype('>f8')\n",
      "pfpIso1              | double                   | AsDtype('>f8')\n",
      "pfpIso2              | double                   | AsDtype('>f8')\n",
      "pfpIso3              | double                   | AsDtype('>f8')\n",
      "pfpIso4              | double                   | AsDtype('>f8')\n",
      "pfpIso5              | double                   | AsDtype('>f8')\n",
      "pfnIso1              | double                   | AsDtype('>f8')\n",
      "pfnIso2              | double                   | AsDtype('>f8')\n",
      "pfnIso3              | double                   | AsDtype('>f8')\n",
      "pfnIso4              | double                   | AsDtype('>f8')\n",
      "pfnIso5              | double                   | AsDtype('>f8')\n",
      "pfpIso1subSC         | double                   | AsDtype('>f8')\n",
      "pfpIso2subSC         | double                   | AsDtype('>f8')\n",
      "pfpIso3subSC         | double                   | AsDtype('>f8')\n",
      "pfpIso4subSC         | double                   | AsDtype('>f8')\n",
      "pfpIso5subSC         | double                   | AsDtype('>f8')\n",
      "pfcIso1subUE         | double                   | AsDtype('>f8')\n",
      "pfcIso2subUE         | double                   | AsDtype('>f8')\n",
      "pfcIso3subUE         | double                   | AsDtype('>f8')\n",
      "pfcIso4subUE         | double                   | AsDtype('>f8')\n",
      "pfcIso5subUE         | double                   | AsDtype('>f8')\n",
      "pfpIso1subUE         | double                   | AsDtype('>f8')\n",
      "pfpIso2subUE         | double                   | AsDtype('>f8')\n",
      "pfpIso3subUE         | double                   | AsDtype('>f8')\n",
      "pfpIso4subUE         | double                   | AsDtype('>f8')\n",
      "pfpIso5subUE         | double                   | AsDtype('>f8')\n",
      "pfnIso1subUE         | double                   | AsDtype('>f8')\n",
      "pfnIso2subUE         | double                   | AsDtype('>f8')\n",
      "pfnIso3subUE         | double                   | AsDtype('>f8')\n",
      "pfnIso4subUE         | double                   | AsDtype('>f8')\n",
      "pfnIso5subUE         | double                   | AsDtype('>f8')\n",
      "pfpIso1subSCsubUE    | double                   | AsDtype('>f8')\n",
      "pfpIso2subSCsubUE    | double                   | AsDtype('>f8')\n",
      "pfpIso3subSCsubUE    | double                   | AsDtype('>f8')\n",
      "pfpIso4subSCsubUE    | double                   | AsDtype('>f8')\n",
      "pfpIso5subSCsubUE    | double                   | AsDtype('>f8')\n",
      "pfcIso1pTgt1p0subUE  | double                   | AsDtype('>f8')\n",
      "pfcIso2pTgt1p0subUE  | double                   | AsDtype('>f8')\n",
      "pfcIso3pTgt1p0subUE  | double                   | AsDtype('>f8')\n",
      "pfcIso4pTgt1p0subUE  | double                   | AsDtype('>f8')\n",
      "pfcIso5pTgt1p0subUE  | double                   | AsDtype('>f8')\n",
      "pfcIso1pTgt2p0subUE  | double                   | AsDtype('>f8')\n",
      "pfcIso2pTgt2p0subUE  | double                   | AsDtype('>f8')\n",
      "pfcIso3pTgt2p0subUE  | double                   | AsDtype('>f8')\n",
      "pfcIso4pTgt2p0subUE  | double                   | AsDtype('>f8')\n",
      "pfcIso5pTgt2p0subUE  | double                   | AsDtype('>f8')\n",
      "pfcIso1pTgt3p0subUE  | double                   | AsDtype('>f8')\n",
      "pfcIso2pTgt3p0subUE  | double                   | AsDtype('>f8')\n",
      "pfcIso3pTgt3p0subUE  | double                   | AsDtype('>f8')\n",
      "pfcIso4pTgt3p0subUE  | double                   | AsDtype('>f8')\n",
      "pfcIso5pTgt3p0subUE  | double                   | AsDtype('>f8')\n"
     ]
    }
   ],
   "source": [
    "events.show()"
   ]
  },
  {
   "cell_type": "markdown",
   "id": "a303ba80",
   "metadata": {},
   "source": [
    "#### Number of entries from tree"
   ]
  },
  {
   "cell_type": "code",
   "execution_count": 17,
   "id": "68126190",
   "metadata": {},
   "outputs": [
    {
     "data": {
      "text/plain": [
       "6714"
      ]
     },
     "execution_count": 17,
     "metadata": {},
     "output_type": "execute_result"
    }
   ],
   "source": [
    "events.num_entries"
   ]
  },
  {
   "cell_type": "markdown",
   "id": "8729efd5",
   "metadata": {},
   "source": [
    "## Terminology"
   ]
  },
  {
   "cell_type": "markdown",
   "id": "042f7433",
   "metadata": {},
   "source": [
    "ROOT files contain objects internally referred to via TKeys (dict-like lookup in Uproot). TTree organizes data in TBranches, and Uproot interprets one TBranch as one array, either a Numpy array or an Awkward Array. TBranch data are stored in chunks called TBaskets, though Uproot hides this level of granularity unless you dig into the details."
   ]
  },
  {
   "cell_type": "code",
   "execution_count": 18,
   "id": "af1c741a",
   "metadata": {},
   "outputs": [],
   "source": [
    "from IPython.display import Image\n",
    "  \n"
   ]
  },
  {
   "cell_type": "code",
   "execution_count": 20,
   "id": "4b03293a",
   "metadata": {},
   "outputs": [
    {
     "data": {
      "text/html": [
       "<img src=\"terminology.png\" width=\"500\" height=\"500\"/>"
      ],
      "text/plain": [
       "<IPython.core.display.Image object>"
      ]
     },
     "execution_count": 20,
     "metadata": {},
     "output_type": "execute_result"
    }
   ],
   "source": [
    "# get the image\n",
    "Image(url=\"terminology.png\", width=500, height=500)"
   ]
  },
  {
   "cell_type": "code",
   "execution_count": 22,
   "id": "5b2336eb",
   "metadata": {},
   "outputs": [
    {
     "ename": "ModuleNotFoundError",
     "evalue": "install the 'awkward' package with:\n\n    pip install awkward\n\nAlternatively, you can use ``library=\"np\"`` or globally set ``uproot.default_library``\nto output as NumPy arrays, rather than Awkward arrays.\n",
     "output_type": "error",
     "traceback": [
      "\u001b[0;31m---------------------------------------------------------------------------\u001b[0m",
      "\u001b[0;31mModuleNotFoundError\u001b[0m                       Traceback (most recent call last)",
      "\u001b[0;32m~/anaconda3/lib/python3.9/site-packages/uproot/extras.py\u001b[0m in \u001b[0;36mawkward\u001b[0;34m()\u001b[0m\n\u001b[1;32m     24\u001b[0m     \u001b[0;32mtry\u001b[0m\u001b[0;34m:\u001b[0m\u001b[0;34m\u001b[0m\u001b[0;34m\u001b[0m\u001b[0m\n\u001b[0;32m---> 25\u001b[0;31m         \u001b[0;32mimport\u001b[0m \u001b[0mawkward\u001b[0m\u001b[0;34m\u001b[0m\u001b[0;34m\u001b[0m\u001b[0m\n\u001b[0m\u001b[1;32m     26\u001b[0m     \u001b[0;32mexcept\u001b[0m \u001b[0mModuleNotFoundError\u001b[0m\u001b[0;34m:\u001b[0m\u001b[0;34m\u001b[0m\u001b[0;34m\u001b[0m\u001b[0m\n",
      "\u001b[0;31mModuleNotFoundError\u001b[0m: No module named 'awkward'",
      "\nDuring handling of the above exception, another exception occurred:\n",
      "\u001b[0;31mModuleNotFoundError\u001b[0m                       Traceback (most recent call last)",
      "\u001b[0;32m/tmp/ipykernel_24306/3270785721.py\u001b[0m in \u001b[0;36m<module>\u001b[0;34m\u001b[0m\n\u001b[0;32m----> 1\u001b[0;31m \u001b[0met\u001b[0m \u001b[0;34m=\u001b[0m \u001b[0mevents\u001b[0m\u001b[0;34m.\u001b[0m\u001b[0marrays\u001b[0m\u001b[0;34m(\u001b[0m\u001b[0;34m\"phoEt\"\u001b[0m\u001b[0;34m)\u001b[0m\u001b[0;34m\u001b[0m\u001b[0;34m\u001b[0m\u001b[0m\n\u001b[0m",
      "\u001b[0;32m~/anaconda3/lib/python3.9/site-packages/uproot/behaviors/TBranch.py\u001b[0m in \u001b[0;36marrays\u001b[0;34m(self, expressions, cut, filter_name, filter_typename, filter_branch, aliases, language, entry_start, entry_stop, decompression_executor, interpretation_executor, array_cache, library, how)\u001b[0m\n\u001b[1;32m   1123\u001b[0m                         \u001b[0mranges_or_baskets\u001b[0m\u001b[0;34m.\u001b[0m\u001b[0mappend\u001b[0m\u001b[0;34m(\u001b[0m\u001b[0;34m(\u001b[0m\u001b[0mbranch\u001b[0m\u001b[0;34m,\u001b[0m \u001b[0mbasket_num\u001b[0m\u001b[0;34m,\u001b[0m \u001b[0mrange_or_basket\u001b[0m\u001b[0;34m)\u001b[0m\u001b[0;34m)\u001b[0m\u001b[0;34m\u001b[0m\u001b[0;34m\u001b[0m\u001b[0m\n\u001b[1;32m   1124\u001b[0m \u001b[0;34m\u001b[0m\u001b[0m\n\u001b[0;32m-> 1125\u001b[0;31m         _ranges_or_baskets_to_arrays(\n\u001b[0m\u001b[1;32m   1126\u001b[0m             \u001b[0mself\u001b[0m\u001b[0;34m,\u001b[0m\u001b[0;34m\u001b[0m\u001b[0;34m\u001b[0m\u001b[0m\n\u001b[1;32m   1127\u001b[0m             \u001b[0mranges_or_baskets\u001b[0m\u001b[0;34m,\u001b[0m\u001b[0;34m\u001b[0m\u001b[0;34m\u001b[0m\u001b[0m\n",
      "\u001b[0;32m~/anaconda3/lib/python3.9/site-packages/uproot/behaviors/TBranch.py\u001b[0m in \u001b[0;36m_ranges_or_baskets_to_arrays\u001b[0;34m(hasbranches, ranges_or_baskets, branchid_interpretation, entry_start, entry_stop, decompression_executor, interpretation_executor, library, arrays, update_ranges_or_baskets)\u001b[0m\n\u001b[1;32m   3500\u001b[0m \u001b[0;34m\u001b[0m\u001b[0m\n\u001b[1;32m   3501\u001b[0m         \u001b[0;32melif\u001b[0m \u001b[0misinstance\u001b[0m\u001b[0;34m(\u001b[0m\u001b[0mobj\u001b[0m\u001b[0;34m,\u001b[0m \u001b[0mtuple\u001b[0m\u001b[0;34m)\u001b[0m \u001b[0;32mand\u001b[0m \u001b[0mlen\u001b[0m\u001b[0;34m(\u001b[0m\u001b[0mobj\u001b[0m\u001b[0;34m)\u001b[0m \u001b[0;34m==\u001b[0m \u001b[0;36m3\u001b[0m\u001b[0;34m:\u001b[0m\u001b[0;34m\u001b[0m\u001b[0;34m\u001b[0m\u001b[0m\n\u001b[0;32m-> 3502\u001b[0;31m             \u001b[0muproot\u001b[0m\u001b[0;34m.\u001b[0m\u001b[0msource\u001b[0m\u001b[0;34m.\u001b[0m\u001b[0mfutures\u001b[0m\u001b[0;34m.\u001b[0m\u001b[0mdelayed_raise\u001b[0m\u001b[0;34m(\u001b[0m\u001b[0;34m*\u001b[0m\u001b[0mobj\u001b[0m\u001b[0;34m)\u001b[0m\u001b[0;34m\u001b[0m\u001b[0;34m\u001b[0m\u001b[0m\n\u001b[0m\u001b[1;32m   3503\u001b[0m \u001b[0;34m\u001b[0m\u001b[0m\n\u001b[1;32m   3504\u001b[0m         \u001b[0;32melse\u001b[0m\u001b[0;34m:\u001b[0m\u001b[0;34m\u001b[0m\u001b[0;34m\u001b[0m\u001b[0m\n",
      "\u001b[0;32m~/anaconda3/lib/python3.9/site-packages/uproot/source/futures.py\u001b[0m in \u001b[0;36mdelayed_raise\u001b[0;34m(exception_class, exception_value, traceback)\u001b[0m\n\u001b[1;32m     34\u001b[0m     \u001b[0mRaise\u001b[0m \u001b[0man\u001b[0m \u001b[0mexception\u001b[0m \u001b[0;32mfrom\u001b[0m \u001b[0ma\u001b[0m \u001b[0mbackground\u001b[0m \u001b[0mthread\u001b[0m \u001b[0mon\u001b[0m \u001b[0mthe\u001b[0m \u001b[0mmain\u001b[0m \u001b[0mthread\u001b[0m\u001b[0;34m.\u001b[0m\u001b[0;34m\u001b[0m\u001b[0;34m\u001b[0m\u001b[0m\n\u001b[1;32m     35\u001b[0m     \"\"\"\n\u001b[0;32m---> 36\u001b[0;31m     \u001b[0;32mraise\u001b[0m \u001b[0mexception_value\u001b[0m\u001b[0;34m.\u001b[0m\u001b[0mwith_traceback\u001b[0m\u001b[0;34m(\u001b[0m\u001b[0mtraceback\u001b[0m\u001b[0;34m)\u001b[0m\u001b[0;34m\u001b[0m\u001b[0;34m\u001b[0m\u001b[0m\n\u001b[0m\u001b[1;32m     37\u001b[0m \u001b[0;34m\u001b[0m\u001b[0m\n\u001b[1;32m     38\u001b[0m \u001b[0;34m\u001b[0m\u001b[0m\n",
      "\u001b[0;32m~/anaconda3/lib/python3.9/site-packages/uproot/behaviors/TBranch.py\u001b[0m in \u001b[0;36mbasket_to_array\u001b[0;34m(basket)\u001b[0m\n\u001b[1;32m   3470\u001b[0m \u001b[0;34m\u001b[0m\u001b[0m\n\u001b[1;32m   3471\u001b[0m             \u001b[0;32mif\u001b[0m \u001b[0mlen\u001b[0m\u001b[0;34m(\u001b[0m\u001b[0mbasket_arrays\u001b[0m\u001b[0;34m)\u001b[0m \u001b[0;34m==\u001b[0m \u001b[0mbranchid_num_baskets\u001b[0m\u001b[0;34m[\u001b[0m\u001b[0mbranch\u001b[0m\u001b[0;34m.\u001b[0m\u001b[0mcache_key\u001b[0m\u001b[0;34m]\u001b[0m\u001b[0;34m:\u001b[0m\u001b[0;34m\u001b[0m\u001b[0;34m\u001b[0m\u001b[0m\n\u001b[0;32m-> 3472\u001b[0;31m                 arrays[branch.cache_key] = interpretation.final_array(\n\u001b[0m\u001b[1;32m   3473\u001b[0m                     \u001b[0mbasket_arrays\u001b[0m\u001b[0;34m,\u001b[0m\u001b[0;34m\u001b[0m\u001b[0;34m\u001b[0m\u001b[0m\n\u001b[1;32m   3474\u001b[0m                     \u001b[0mentry_start\u001b[0m\u001b[0;34m,\u001b[0m\u001b[0;34m\u001b[0m\u001b[0;34m\u001b[0m\u001b[0m\n",
      "\u001b[0;32m~/anaconda3/lib/python3.9/site-packages/uproot/interpretation/numerical.py\u001b[0m in \u001b[0;36mfinal_array\u001b[0;34m(self, basket_arrays, entry_start, entry_stop, entry_offsets, library, branch)\u001b[0m\n\u001b[1;32m    112\u001b[0m         \u001b[0moutput\u001b[0m \u001b[0;34m=\u001b[0m \u001b[0mself\u001b[0m\u001b[0;34m.\u001b[0m\u001b[0m_wrap_almost_finalized\u001b[0m\u001b[0;34m(\u001b[0m\u001b[0moutput\u001b[0m\u001b[0;34m)\u001b[0m\u001b[0;34m\u001b[0m\u001b[0;34m\u001b[0m\u001b[0m\n\u001b[1;32m    113\u001b[0m \u001b[0;34m\u001b[0m\u001b[0m\n\u001b[0;32m--> 114\u001b[0;31m         \u001b[0moutput\u001b[0m \u001b[0;34m=\u001b[0m \u001b[0mlibrary\u001b[0m\u001b[0;34m.\u001b[0m\u001b[0mfinalize\u001b[0m\u001b[0;34m(\u001b[0m\u001b[0moutput\u001b[0m\u001b[0;34m,\u001b[0m \u001b[0mbranch\u001b[0m\u001b[0;34m,\u001b[0m \u001b[0mself\u001b[0m\u001b[0;34m,\u001b[0m \u001b[0mentry_start\u001b[0m\u001b[0;34m,\u001b[0m \u001b[0mentry_stop\u001b[0m\u001b[0;34m)\u001b[0m\u001b[0;34m\u001b[0m\u001b[0;34m\u001b[0m\u001b[0m\n\u001b[0m\u001b[1;32m    115\u001b[0m \u001b[0;34m\u001b[0m\u001b[0m\n\u001b[1;32m    116\u001b[0m         self.hook_after_final_array(\n",
      "\u001b[0;32m~/anaconda3/lib/python3.9/site-packages/uproot/interpretation/library.py\u001b[0m in \u001b[0;36mfinalize\u001b[0;34m(self, array, branch, interpretation, entry_start, entry_stop)\u001b[0m\n\u001b[1;32m    492\u001b[0m \u001b[0;34m\u001b[0m\u001b[0m\n\u001b[1;32m    493\u001b[0m     \u001b[0;32mdef\u001b[0m \u001b[0mfinalize\u001b[0m\u001b[0;34m(\u001b[0m\u001b[0mself\u001b[0m\u001b[0;34m,\u001b[0m \u001b[0marray\u001b[0m\u001b[0;34m,\u001b[0m \u001b[0mbranch\u001b[0m\u001b[0;34m,\u001b[0m \u001b[0minterpretation\u001b[0m\u001b[0;34m,\u001b[0m \u001b[0mentry_start\u001b[0m\u001b[0;34m,\u001b[0m \u001b[0mentry_stop\u001b[0m\u001b[0;34m)\u001b[0m\u001b[0;34m:\u001b[0m\u001b[0;34m\u001b[0m\u001b[0;34m\u001b[0m\u001b[0m\n\u001b[0;32m--> 494\u001b[0;31m         \u001b[0mawkward\u001b[0m \u001b[0;34m=\u001b[0m \u001b[0mself\u001b[0m\u001b[0;34m.\u001b[0m\u001b[0mimported\u001b[0m\u001b[0;34m\u001b[0m\u001b[0;34m\u001b[0m\u001b[0m\n\u001b[0m\u001b[1;32m    495\u001b[0m \u001b[0;34m\u001b[0m\u001b[0m\n\u001b[1;32m    496\u001b[0m         \u001b[0;32mif\u001b[0m \u001b[0misinstance\u001b[0m\u001b[0;34m(\u001b[0m\u001b[0marray\u001b[0m\u001b[0;34m,\u001b[0m \u001b[0mawkward\u001b[0m\u001b[0;34m.\u001b[0m\u001b[0mlayout\u001b[0m\u001b[0;34m.\u001b[0m\u001b[0mContent\u001b[0m\u001b[0;34m)\u001b[0m\u001b[0;34m:\u001b[0m\u001b[0;34m\u001b[0m\u001b[0;34m\u001b[0m\u001b[0m\n",
      "\u001b[0;32m~/anaconda3/lib/python3.9/site-packages/uproot/interpretation/library.py\u001b[0m in \u001b[0;36mimported\u001b[0;34m(self)\u001b[0m\n\u001b[1;32m    489\u001b[0m     \u001b[0;34m@\u001b[0m\u001b[0mproperty\u001b[0m\u001b[0;34m\u001b[0m\u001b[0;34m\u001b[0m\u001b[0m\n\u001b[1;32m    490\u001b[0m     \u001b[0;32mdef\u001b[0m \u001b[0mimported\u001b[0m\u001b[0;34m(\u001b[0m\u001b[0mself\u001b[0m\u001b[0;34m)\u001b[0m\u001b[0;34m:\u001b[0m\u001b[0;34m\u001b[0m\u001b[0;34m\u001b[0m\u001b[0m\n\u001b[0;32m--> 491\u001b[0;31m         \u001b[0;32mreturn\u001b[0m \u001b[0muproot\u001b[0m\u001b[0;34m.\u001b[0m\u001b[0mextras\u001b[0m\u001b[0;34m.\u001b[0m\u001b[0mawkward\u001b[0m\u001b[0;34m(\u001b[0m\u001b[0;34m)\u001b[0m\u001b[0;34m\u001b[0m\u001b[0;34m\u001b[0m\u001b[0m\n\u001b[0m\u001b[1;32m    492\u001b[0m \u001b[0;34m\u001b[0m\u001b[0m\n\u001b[1;32m    493\u001b[0m     \u001b[0;32mdef\u001b[0m \u001b[0mfinalize\u001b[0m\u001b[0;34m(\u001b[0m\u001b[0mself\u001b[0m\u001b[0;34m,\u001b[0m \u001b[0marray\u001b[0m\u001b[0;34m,\u001b[0m \u001b[0mbranch\u001b[0m\u001b[0;34m,\u001b[0m \u001b[0minterpretation\u001b[0m\u001b[0;34m,\u001b[0m \u001b[0mentry_start\u001b[0m\u001b[0;34m,\u001b[0m \u001b[0mentry_stop\u001b[0m\u001b[0;34m)\u001b[0m\u001b[0;34m:\u001b[0m\u001b[0;34m\u001b[0m\u001b[0;34m\u001b[0m\u001b[0m\n",
      "\u001b[0;32m~/anaconda3/lib/python3.9/site-packages/uproot/extras.py\u001b[0m in \u001b[0;36mawkward\u001b[0;34m()\u001b[0m\n\u001b[1;32m     25\u001b[0m         \u001b[0;32mimport\u001b[0m \u001b[0mawkward\u001b[0m\u001b[0;34m\u001b[0m\u001b[0;34m\u001b[0m\u001b[0m\n\u001b[1;32m     26\u001b[0m     \u001b[0;32mexcept\u001b[0m \u001b[0mModuleNotFoundError\u001b[0m\u001b[0;34m:\u001b[0m\u001b[0;34m\u001b[0m\u001b[0;34m\u001b[0m\u001b[0m\n\u001b[0;32m---> 27\u001b[0;31m         raise ModuleNotFoundError(\n\u001b[0m\u001b[1;32m     28\u001b[0m             \"\"\"install the 'awkward' package with:\n\u001b[1;32m     29\u001b[0m \u001b[0;34m\u001b[0m\u001b[0m\n",
      "\u001b[0;31mModuleNotFoundError\u001b[0m: install the 'awkward' package with:\n\n    pip install awkward\n\nAlternatively, you can use ``library=\"np\"`` or globally set ``uproot.default_library``\nto output as NumPy arrays, rather than Awkward arrays.\n"
     ]
    }
   ],
   "source": [
    "et = events.arrays(\"phoEt\")"
   ]
  },
  {
   "cell_type": "code",
   "execution_count": 23,
   "id": "abc4af29",
   "metadata": {},
   "outputs": [
    {
     "name": "stdout",
     "output_type": "stream",
     "text": [
      "Collecting awkward\n",
      "  Downloading awkward-1.8.0-cp39-cp39-manylinux_2_12_x86_64.manylinux2010_x86_64.whl (11.7 MB)\n",
      "\u001b[K     |████████████████████████████████| 11.7 MB 24 kB/s  eta 0:00:01\n",
      "\u001b[?25hRequirement already satisfied: setuptools in /home/ruchi/anaconda3/lib/python3.9/site-packages (from awkward) (58.0.4)\n",
      "Requirement already satisfied: numpy>=1.13.1 in /home/ruchi/anaconda3/lib/python3.9/site-packages (from awkward) (1.20.3)\n",
      "Installing collected packages: awkward\n",
      "Successfully installed awkward-1.8.0\n",
      "Note: you may need to restart the kernel to use updated packages.\n"
     ]
    }
   ],
   "source": [
    "pip install awkward"
   ]
  },
  {
   "cell_type": "code",
   "execution_count": 24,
   "id": "f8145440",
   "metadata": {},
   "outputs": [],
   "source": [
    "et = events.arrays(\"phoEt\")"
   ]
  },
  {
   "cell_type": "code",
   "execution_count": 25,
   "id": "c7cc630d",
   "metadata": {},
   "outputs": [
    {
     "data": {
      "text/plain": [
       "AsDtype('>f8')"
      ]
     },
     "execution_count": 25,
     "metadata": {},
     "output_type": "execute_result"
    }
   ],
   "source": [
    "events[\"phoEt\"].interpretation"
   ]
  },
  {
   "cell_type": "code",
   "execution_count": 26,
   "id": "359d05cf",
   "metadata": {},
   "outputs": [],
   "source": [
    "import numpy"
   ]
  },
  {
   "cell_type": "code",
   "execution_count": 27,
   "id": "592861d6",
   "metadata": {},
   "outputs": [
    {
     "ename": "ValueError",
     "evalue": "cannot broadcast records in this type of operation\n\n(https://github.com/scikit-hep/awkward-1.0/blob/1.8.0/src/awkward/_util.py#L1060)",
     "output_type": "error",
     "traceback": [
      "\u001b[0;31m---------------------------------------------------------------------------\u001b[0m",
      "\u001b[0;31mValueError\u001b[0m                                Traceback (most recent call last)",
      "\u001b[0;32m/tmp/ipykernel_24306/836914948.py\u001b[0m in \u001b[0;36m<module>\u001b[0;34m\u001b[0m\n\u001b[0;32m----> 1\u001b[0;31m \u001b[0mnumpy\u001b[0m\u001b[0;34m.\u001b[0m\u001b[0mlog\u001b[0m\u001b[0;34m(\u001b[0m\u001b[0met\u001b[0m\u001b[0;34m)\u001b[0m\u001b[0;34m\u001b[0m\u001b[0;34m\u001b[0m\u001b[0m\n\u001b[0m",
      "\u001b[0;32m~/anaconda3/lib/python3.9/site-packages/awkward/highlevel.py\u001b[0m in \u001b[0;36m__array_ufunc__\u001b[0;34m(self, ufunc, method, *inputs, **kwargs)\u001b[0m\n\u001b[1;32m   1409\u001b[0m         \"\"\"\n\u001b[1;32m   1410\u001b[0m         \u001b[0;32mif\u001b[0m \u001b[0;32mnot\u001b[0m \u001b[0mhasattr\u001b[0m\u001b[0;34m(\u001b[0m\u001b[0mself\u001b[0m\u001b[0;34m,\u001b[0m \u001b[0;34m\"_tracers\"\u001b[0m\u001b[0;34m)\u001b[0m\u001b[0;34m:\u001b[0m\u001b[0;34m\u001b[0m\u001b[0;34m\u001b[0m\u001b[0m\n\u001b[0;32m-> 1411\u001b[0;31m             \u001b[0;32mreturn\u001b[0m \u001b[0mak\u001b[0m\u001b[0;34m.\u001b[0m\u001b[0m_connect\u001b[0m\u001b[0;34m.\u001b[0m\u001b[0m_numpy\u001b[0m\u001b[0;34m.\u001b[0m\u001b[0marray_ufunc\u001b[0m\u001b[0;34m(\u001b[0m\u001b[0mufunc\u001b[0m\u001b[0;34m,\u001b[0m \u001b[0mmethod\u001b[0m\u001b[0;34m,\u001b[0m \u001b[0minputs\u001b[0m\u001b[0;34m,\u001b[0m \u001b[0mkwargs\u001b[0m\u001b[0;34m)\u001b[0m\u001b[0;34m\u001b[0m\u001b[0;34m\u001b[0m\u001b[0m\n\u001b[0m\u001b[1;32m   1412\u001b[0m         \u001b[0;32melse\u001b[0m\u001b[0;34m:\u001b[0m\u001b[0;34m\u001b[0m\u001b[0;34m\u001b[0m\u001b[0m\n\u001b[1;32m   1413\u001b[0m             return ak._connect._jax.jax_utils.array_ufunc(\n",
      "\u001b[0;32m~/anaconda3/lib/python3.9/site-packages/awkward/_connect/_numpy.py\u001b[0m in \u001b[0;36marray_ufunc\u001b[0;34m(ufunc, method, inputs, kwargs)\u001b[0m\n\u001b[1;32m    248\u001b[0m         \u001b[0;32mreturn\u001b[0m \u001b[0;32mNone\u001b[0m\u001b[0;34m\u001b[0m\u001b[0;34m\u001b[0m\u001b[0m\n\u001b[1;32m    249\u001b[0m \u001b[0;34m\u001b[0m\u001b[0m\n\u001b[0;32m--> 250\u001b[0;31m     out = ak._util.broadcast_and_apply(\n\u001b[0m\u001b[1;32m    251\u001b[0m         \u001b[0minputs\u001b[0m\u001b[0;34m,\u001b[0m \u001b[0mgetfunction\u001b[0m\u001b[0;34m,\u001b[0m \u001b[0mbehavior\u001b[0m\u001b[0;34m,\u001b[0m \u001b[0mallow_records\u001b[0m\u001b[0;34m=\u001b[0m\u001b[0;32mFalse\u001b[0m\u001b[0;34m,\u001b[0m \u001b[0mpass_depth\u001b[0m\u001b[0;34m=\u001b[0m\u001b[0;32mFalse\u001b[0m\u001b[0;34m\u001b[0m\u001b[0;34m\u001b[0m\u001b[0m\n\u001b[1;32m    252\u001b[0m     )\n",
      "\u001b[0;32m~/anaconda3/lib/python3.9/site-packages/awkward/_util.py\u001b[0m in \u001b[0;36mbroadcast_and_apply\u001b[0;34m(inputs, getfunction, behavior, allow_records, pass_depth, pass_user, user, left_broadcast, right_broadcast, numpy_to_regular, regular_to_jagged)\u001b[0m\n\u001b[1;32m   1164\u001b[0m     \u001b[0;32melse\u001b[0m\u001b[0;34m:\u001b[0m\u001b[0;34m\u001b[0m\u001b[0;34m\u001b[0m\u001b[0m\n\u001b[1;32m   1165\u001b[0m         \u001b[0misscalar\u001b[0m \u001b[0;34m=\u001b[0m \u001b[0;34m[\u001b[0m\u001b[0;34m]\u001b[0m\u001b[0;34m\u001b[0m\u001b[0;34m\u001b[0m\u001b[0m\n\u001b[0;32m-> 1166\u001b[0;31m         \u001b[0mout\u001b[0m \u001b[0;34m=\u001b[0m \u001b[0mapply\u001b[0m\u001b[0;34m(\u001b[0m\u001b[0mbroadcast_pack\u001b[0m\u001b[0;34m(\u001b[0m\u001b[0minputs\u001b[0m\u001b[0;34m,\u001b[0m \u001b[0misscalar\u001b[0m\u001b[0;34m)\u001b[0m\u001b[0;34m,\u001b[0m \u001b[0;36m0\u001b[0m\u001b[0;34m,\u001b[0m \u001b[0muser\u001b[0m\u001b[0;34m)\u001b[0m\u001b[0;34m\u001b[0m\u001b[0;34m\u001b[0m\u001b[0m\n\u001b[0m\u001b[1;32m   1167\u001b[0m         \u001b[0;32massert\u001b[0m \u001b[0misinstance\u001b[0m\u001b[0;34m(\u001b[0m\u001b[0mout\u001b[0m\u001b[0;34m,\u001b[0m \u001b[0mtuple\u001b[0m\u001b[0;34m)\u001b[0m\u001b[0;34m\u001b[0m\u001b[0;34m\u001b[0m\u001b[0m\n\u001b[1;32m   1168\u001b[0m         \u001b[0;32mreturn\u001b[0m \u001b[0mtuple\u001b[0m\u001b[0;34m(\u001b[0m\u001b[0mbroadcast_unpack\u001b[0m\u001b[0;34m(\u001b[0m\u001b[0mx\u001b[0m\u001b[0;34m,\u001b[0m \u001b[0misscalar\u001b[0m\u001b[0;34m)\u001b[0m \u001b[0;32mfor\u001b[0m \u001b[0mx\u001b[0m \u001b[0;32min\u001b[0m \u001b[0mout\u001b[0m\u001b[0;34m)\u001b[0m\u001b[0;34m\u001b[0m\u001b[0;34m\u001b[0m\u001b[0m\n",
      "\u001b[0;32m~/anaconda3/lib/python3.9/site-packages/awkward/_util.py\u001b[0m in \u001b[0;36mapply\u001b[0;34m(inputs, depth, user)\u001b[0m\n\u001b[1;32m    917\u001b[0m                         \u001b[0mnextinputs\u001b[0m\u001b[0;34m.\u001b[0m\u001b[0mappend\u001b[0m\u001b[0;34m(\u001b[0m\u001b[0mx\u001b[0m\u001b[0;34m)\u001b[0m\u001b[0;34m\u001b[0m\u001b[0;34m\u001b[0m\u001b[0m\n\u001b[1;32m    918\u001b[0m \u001b[0;34m\u001b[0m\u001b[0m\n\u001b[0;32m--> 919\u001b[0;31m                 \u001b[0moutcontent\u001b[0m \u001b[0;34m=\u001b[0m \u001b[0mapply\u001b[0m\u001b[0;34m(\u001b[0m\u001b[0mnextinputs\u001b[0m\u001b[0;34m,\u001b[0m \u001b[0mdepth\u001b[0m \u001b[0;34m+\u001b[0m \u001b[0;36m1\u001b[0m\u001b[0;34m,\u001b[0m \u001b[0muser\u001b[0m\u001b[0;34m)\u001b[0m\u001b[0;34m\u001b[0m\u001b[0;34m\u001b[0m\u001b[0m\n\u001b[0m\u001b[1;32m    920\u001b[0m                 \u001b[0;32massert\u001b[0m \u001b[0misinstance\u001b[0m\u001b[0;34m(\u001b[0m\u001b[0moutcontent\u001b[0m\u001b[0;34m,\u001b[0m \u001b[0mtuple\u001b[0m\u001b[0;34m)\u001b[0m\u001b[0;34m\u001b[0m\u001b[0;34m\u001b[0m\u001b[0m\n\u001b[1;32m    921\u001b[0m \u001b[0;34m\u001b[0m\u001b[0m\n",
      "\u001b[0;32m~/anaconda3/lib/python3.9/site-packages/awkward/_util.py\u001b[0m in \u001b[0;36mapply\u001b[0;34m(inputs, depth, user)\u001b[0m\n\u001b[1;32m   1056\u001b[0m         \u001b[0;32melif\u001b[0m \u001b[0many\u001b[0m\u001b[0;34m(\u001b[0m\u001b[0misinstance\u001b[0m\u001b[0;34m(\u001b[0m\u001b[0mx\u001b[0m\u001b[0;34m,\u001b[0m \u001b[0mrecordtypes\u001b[0m\u001b[0;34m)\u001b[0m \u001b[0;32mfor\u001b[0m \u001b[0mx\u001b[0m \u001b[0;32min\u001b[0m \u001b[0minputs\u001b[0m\u001b[0;34m)\u001b[0m\u001b[0;34m:\u001b[0m\u001b[0;34m\u001b[0m\u001b[0;34m\u001b[0m\u001b[0m\n\u001b[1;32m   1057\u001b[0m             \u001b[0;32mif\u001b[0m \u001b[0;32mnot\u001b[0m \u001b[0mallow_records\u001b[0m\u001b[0;34m:\u001b[0m\u001b[0;34m\u001b[0m\u001b[0;34m\u001b[0m\u001b[0m\n\u001b[0;32m-> 1058\u001b[0;31m                 raise ValueError(\n\u001b[0m\u001b[1;32m   1059\u001b[0m                     \u001b[0;34m\"cannot broadcast records in this type of operation\"\u001b[0m\u001b[0;34m\u001b[0m\u001b[0;34m\u001b[0m\u001b[0m\n\u001b[1;32m   1060\u001b[0m                     \u001b[0;34m+\u001b[0m \u001b[0mexception_suffix\u001b[0m\u001b[0;34m(\u001b[0m\u001b[0m__file__\u001b[0m\u001b[0;34m)\u001b[0m\u001b[0;34m\u001b[0m\u001b[0;34m\u001b[0m\u001b[0m\n",
      "\u001b[0;31mValueError\u001b[0m: cannot broadcast records in this type of operation\n\n(https://github.com/scikit-hep/awkward-1.0/blob/1.8.0/src/awkward/_util.py#L1060)"
     ]
    }
   ],
   "source": [
    "numpy.log(et)"
   ]
  },
  {
   "cell_type": "code",
   "execution_count": 28,
   "id": "eb438079",
   "metadata": {},
   "outputs": [
    {
     "data": {
      "text/plain": [
       "<Array [{phoEt: 7.48}, ... {phoEt: 9.55}] type='6714 * {\"phoEt\": float64}'>"
      ]
     },
     "execution_count": 28,
     "metadata": {},
     "output_type": "execute_result"
    }
   ],
   "source": [
    "et"
   ]
  },
  {
   "cell_type": "code",
   "execution_count": 29,
   "id": "681bb106",
   "metadata": {},
   "outputs": [
    {
     "data": {
      "text/plain": [
       "awkward.highlevel.Array"
      ]
     },
     "execution_count": 29,
     "metadata": {},
     "output_type": "execute_result"
    }
   ],
   "source": [
    "type(et)"
   ]
  },
  {
   "cell_type": "code",
   "execution_count": 30,
   "id": "99e42e65",
   "metadata": {},
   "outputs": [
    {
     "data": {
      "text/plain": [
       "<Array [{phoEt: 7.48, ... phoPhi: -0.363}] type='6714 * {\"phoEt\": float64, \"phoE...'>"
      ]
     },
     "execution_count": 30,
     "metadata": {},
     "output_type": "execute_result"
    }
   ],
   "source": [
    "events.arrays([\"phoEt\", \"phoEta\", \"phoPhi\"])"
   ]
  },
  {
   "cell_type": "markdown",
   "id": "33262b41",
   "metadata": {},
   "source": [
    "### some methods are not working in uproot4, therefore switched to using uproot3"
   ]
  },
  {
   "cell_type": "code",
   "execution_count": null,
   "id": "13712e70",
   "metadata": {},
   "outputs": [],
   "source": []
  }
 ],
 "metadata": {
  "kernelspec": {
   "display_name": "Python 3 (ipykernel)",
   "language": "python",
   "name": "python3"
  },
  "language_info": {
   "codemirror_mode": {
    "name": "ipython",
    "version": 3
   },
   "file_extension": ".py",
   "mimetype": "text/x-python",
   "name": "python",
   "nbconvert_exporter": "python",
   "pygments_lexer": "ipython3",
   "version": "3.9.7"
  }
 },
 "nbformat": 4,
 "nbformat_minor": 5
}
